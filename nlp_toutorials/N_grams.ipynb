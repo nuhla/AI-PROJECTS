{
 "cells": [
  {
   "cell_type": "code",
   "execution_count": 53,
   "metadata": {},
   "outputs": [],
   "source": [
    "from sklearn.feature_extraction.text import CountVectorizer"
   ]
  },
  {
   "cell_type": "code",
   "execution_count": 54,
   "metadata": {},
   "outputs": [
    {
     "data": {
      "text/plain": [
       "{'thor': 18,\n",
       " 'hathodwala': 3,\n",
       " 'looking': 14,\n",
       " 'for': 0,\n",
       " 'job': 6,\n",
       " 'just': 9,\n",
       " 'like': 12,\n",
       " 'me': 17,\n",
       " 'thor hathodwala': 19,\n",
       " 'hathodwala looking': 4,\n",
       " 'looking for': 15,\n",
       " 'for job': 1,\n",
       " 'job just': 7,\n",
       " 'just like': 10,\n",
       " 'like me': 13,\n",
       " 'thor hathodwala looking': 20,\n",
       " 'hathodwala looking for': 5,\n",
       " 'looking for job': 16,\n",
       " 'for job just': 2,\n",
       " 'job just like': 8,\n",
       " 'just like me': 11}"
      ]
     },
     "execution_count": 54,
     "metadata": {},
     "output_type": "execute_result"
    }
   ],
   "source": [
    "v = CountVectorizer(ngram_range=(1,3))\n",
    "v.fit(['Thor Hathodwala s looking for a job just like me :)'])\n",
    "v.vocabulary_"
   ]
  },
  {
   "cell_type": "code",
   "execution_count": 55,
   "metadata": {},
   "outputs": [],
   "source": [
    "corpus =[\n",
    "    \"thor ate pizza\",\n",
    "    \"laila is tall\",\n",
    "    \"laila is cooling water\",\n",
    "]"
   ]
  },
  {
   "cell_type": "code",
   "execution_count": 56,
   "metadata": {},
   "outputs": [],
   "source": [
    "import spacy\n",
    "nlp = spacy.load(\"en_core_web_sm\")\n",
    "\n",
    "\n",
    "def preprocessing(text):\n",
    "    doc = nlp(text)\n",
    "\n",
    "    filtered_token= []\n",
    "    for token in doc:\n",
    "        if token.is_stop or token.is_punct:\n",
    "            continue\n",
    "        filtered_token.append(token.lemma_)\n",
    "\n",
    "    return \" \".join(filtered_token)\n"
   ]
  },
  {
   "cell_type": "code",
   "execution_count": 57,
   "metadata": {},
   "outputs": [
    {
     "data": {
      "text/plain": [
       "'thor eat pizza'"
      ]
     },
     "execution_count": 57,
     "metadata": {},
     "output_type": "execute_result"
    }
   ],
   "source": [
    "preprocessing(\"thor ate pizza\")# convert ate to eat the pas verb"
   ]
  },
  {
   "cell_type": "code",
   "execution_count": 58,
   "metadata": {},
   "outputs": [],
   "source": [
    "corpus_process = [preprocessing(text) for text in corpus]"
   ]
  },
  {
   "cell_type": "code",
   "execution_count": 59,
   "metadata": {},
   "outputs": [
    {
     "data": {
      "text/plain": [
       "['thor eat pizza', 'laila tall', 'laila cool water']"
      ]
     },
     "execution_count": 59,
     "metadata": {},
     "output_type": "execute_result"
    }
   ],
   "source": [
    "corpus_process"
   ]
  },
  {
   "cell_type": "code",
   "execution_count": 60,
   "metadata": {},
   "outputs": [
    {
     "data": {
      "text/plain": [
       "{'thor': 9,\n",
       " 'eat': 2,\n",
       " 'pizza': 7,\n",
       " 'thor eat': 10,\n",
       " 'eat pizza': 3,\n",
       " 'laila': 4,\n",
       " 'tall': 8,\n",
       " 'laila tall': 6,\n",
       " 'cool': 0,\n",
       " 'water': 11,\n",
       " 'laila cool': 5,\n",
       " 'cool water': 1}"
      ]
     },
     "execution_count": 60,
     "metadata": {},
     "output_type": "execute_result"
    }
   ],
   "source": [
    "v = CountVectorizer(ngram_range=(1,2))\n",
    "v.fit(corpus_process)\n",
    "v.vocabulary_"
   ]
  },
  {
   "cell_type": "code",
   "execution_count": 61,
   "metadata": {},
   "outputs": [],
   "source": [
    "vectore = v.transform([\"thor ate pizza\"])"
   ]
  },
  {
   "cell_type": "code",
   "execution_count": 62,
   "metadata": {},
   "outputs": [
    {
     "data": {
      "text/plain": [
       "array([[0, 0, 0, 0, 0, 0, 0, 1, 0, 1, 0, 0]], dtype=int64)"
      ]
     },
     "execution_count": 62,
     "metadata": {},
     "output_type": "execute_result"
    }
   ],
   "source": [
    "vectore.toarray()"
   ]
  },
  {
   "cell_type": "code",
   "execution_count": 63,
   "metadata": {},
   "outputs": [
    {
     "data": {
      "text/html": [
       "<div>\n",
       "<style scoped>\n",
       "    .dataframe tbody tr th:only-of-type {\n",
       "        vertical-align: middle;\n",
       "    }\n",
       "\n",
       "    .dataframe tbody tr th {\n",
       "        vertical-align: top;\n",
       "    }\n",
       "\n",
       "    .dataframe thead th {\n",
       "        text-align: right;\n",
       "    }\n",
       "</style>\n",
       "<table border=\"1\" class=\"dataframe\">\n",
       "  <thead>\n",
       "    <tr style=\"text-align: right;\">\n",
       "      <th></th>\n",
       "      <th>text</th>\n",
       "      <th>category</th>\n",
       "    </tr>\n",
       "  </thead>\n",
       "  <tbody>\n",
       "    <tr>\n",
       "      <th>0</th>\n",
       "      <td>Watching Schrödinger's Cat Die University of C...</td>\n",
       "      <td>SCIENCE</td>\n",
       "    </tr>\n",
       "    <tr>\n",
       "      <th>1</th>\n",
       "      <td>WATCH: Freaky Vortex Opens Up In Flooded Lake</td>\n",
       "      <td>SCIENCE</td>\n",
       "    </tr>\n",
       "    <tr>\n",
       "      <th>2</th>\n",
       "      <td>Entrepreneurs Today Don't Need a Big Budget to...</td>\n",
       "      <td>BUSINESS</td>\n",
       "    </tr>\n",
       "    <tr>\n",
       "      <th>3</th>\n",
       "      <td>These Roads Could Recharge Your Electric Car A...</td>\n",
       "      <td>BUSINESS</td>\n",
       "    </tr>\n",
       "    <tr>\n",
       "      <th>4</th>\n",
       "      <td>Civilian 'Guard' Fires Gun While 'Protecting' ...</td>\n",
       "      <td>CRIME</td>\n",
       "    </tr>\n",
       "  </tbody>\n",
       "</table>\n",
       "</div>"
      ],
      "text/plain": [
       "                                                text  category\n",
       "0  Watching Schrödinger's Cat Die University of C...   SCIENCE\n",
       "1     WATCH: Freaky Vortex Opens Up In Flooded Lake    SCIENCE\n",
       "2  Entrepreneurs Today Don't Need a Big Budget to...  BUSINESS\n",
       "3  These Roads Could Recharge Your Electric Car A...  BUSINESS\n",
       "4  Civilian 'Guard' Fires Gun While 'Protecting' ...     CRIME"
      ]
     },
     "execution_count": 63,
     "metadata": {},
     "output_type": "execute_result"
    }
   ],
   "source": [
    "import pandas as pd\n",
    "\n",
    "df = pd.read_json(\"news_dataset.json\"  )\n",
    "df.head()"
   ]
  },
  {
   "cell_type": "code",
   "execution_count": 64,
   "metadata": {},
   "outputs": [
    {
     "data": {
      "text/plain": [
       "category\n",
       "BUSINESS    4254\n",
       "SPORTS      4167\n",
       "CRIME       2893\n",
       "SCIENCE     1381\n",
       "Name: count, dtype: int64"
      ]
     },
     "execution_count": 64,
     "metadata": {},
     "output_type": "execute_result"
    }
   ],
   "source": [
    "df.category.value_counts()"
   ]
  },
  {
   "cell_type": "code",
   "execution_count": 65,
   "metadata": {},
   "outputs": [],
   "source": [
    "manoirity_sample_count = 1381\n",
    "\n",
    "BUSINESS_sample = df[df.category==\"BUSINESS\"].sample(manoirity_sample_count , random_state=2024)\n",
    "SPORTS_sample = df[df.category==\"SPORTS\"].sample(manoirity_sample_count , random_state=2024)\n",
    "CRIME_sample = df[df.category==\"CRIME\"].sample(manoirity_sample_count , random_state=2024)\n",
    "SCIENCE_sample = df[df.category==\"SCIENCE\"]"
   ]
  },
  {
   "cell_type": "code",
   "execution_count": 66,
   "metadata": {},
   "outputs": [
    {
     "data": {
      "text/html": [
       "<div>\n",
       "<style scoped>\n",
       "    .dataframe tbody tr th:only-of-type {\n",
       "        vertical-align: middle;\n",
       "    }\n",
       "\n",
       "    .dataframe tbody tr th {\n",
       "        vertical-align: top;\n",
       "    }\n",
       "\n",
       "    .dataframe thead th {\n",
       "        text-align: right;\n",
       "    }\n",
       "</style>\n",
       "<table border=\"1\" class=\"dataframe\">\n",
       "  <thead>\n",
       "    <tr style=\"text-align: right;\">\n",
       "      <th></th>\n",
       "      <th>text</th>\n",
       "      <th>category</th>\n",
       "    </tr>\n",
       "  </thead>\n",
       "  <tbody>\n",
       "    <tr>\n",
       "      <th>6560</th>\n",
       "      <td>Will Ferrell Is Really Pumped About The USA-Ge...</td>\n",
       "      <td>SPORTS</td>\n",
       "    </tr>\n",
       "    <tr>\n",
       "      <th>4490</th>\n",
       "      <td>Are You Ready For Some L.A. Football? In an er...</td>\n",
       "      <td>SPORTS</td>\n",
       "    </tr>\n",
       "    <tr>\n",
       "      <th>9720</th>\n",
       "      <td>Cam Newton Wore An Adorable Shirt Of His Son A...</td>\n",
       "      <td>SPORTS</td>\n",
       "    </tr>\n",
       "    <tr>\n",
       "      <th>9233</th>\n",
       "      <td>WATCH: One Play, Three Errors</td>\n",
       "      <td>SPORTS</td>\n",
       "    </tr>\n",
       "    <tr>\n",
       "      <th>130</th>\n",
       "      <td>WATCH: Marshawn Lynch Wants Nothing To Do With...</td>\n",
       "      <td>SPORTS</td>\n",
       "    </tr>\n",
       "    <tr>\n",
       "      <th>...</th>\n",
       "      <td>...</td>\n",
       "      <td>...</td>\n",
       "    </tr>\n",
       "    <tr>\n",
       "      <th>1150</th>\n",
       "      <td>Stunt Biker Danny MacAskill Turns Scotland Int...</td>\n",
       "      <td>SPORTS</td>\n",
       "    </tr>\n",
       "    <tr>\n",
       "      <th>10747</th>\n",
       "      <td>If NFL Quaterbacks Were On Tinder</td>\n",
       "      <td>SPORTS</td>\n",
       "    </tr>\n",
       "    <tr>\n",
       "      <th>4657</th>\n",
       "      <td>This Young Carolina Panthers Fan Is Happiness ...</td>\n",
       "      <td>SPORTS</td>\n",
       "    </tr>\n",
       "    <tr>\n",
       "      <th>8197</th>\n",
       "      <td>Become a Millionaire, Start Skateboarding Skat...</td>\n",
       "      <td>SPORTS</td>\n",
       "    </tr>\n",
       "    <tr>\n",
       "      <th>7780</th>\n",
       "      <td>Here’s What It Looks Like To Have A Ronaldo Ki...</td>\n",
       "      <td>SPORTS</td>\n",
       "    </tr>\n",
       "  </tbody>\n",
       "</table>\n",
       "<p>1381 rows × 2 columns</p>\n",
       "</div>"
      ],
      "text/plain": [
       "                                                    text category\n",
       "6560   Will Ferrell Is Really Pumped About The USA-Ge...   SPORTS\n",
       "4490   Are You Ready For Some L.A. Football? In an er...   SPORTS\n",
       "9720   Cam Newton Wore An Adorable Shirt Of His Son A...   SPORTS\n",
       "9233                      WATCH: One Play, Three Errors    SPORTS\n",
       "130    WATCH: Marshawn Lynch Wants Nothing To Do With...   SPORTS\n",
       "...                                                  ...      ...\n",
       "1150   Stunt Biker Danny MacAskill Turns Scotland Int...   SPORTS\n",
       "10747                 If NFL Quaterbacks Were On Tinder    SPORTS\n",
       "4657   This Young Carolina Panthers Fan Is Happiness ...   SPORTS\n",
       "8197   Become a Millionaire, Start Skateboarding Skat...   SPORTS\n",
       "7780   Here’s What It Looks Like To Have A Ronaldo Ki...   SPORTS\n",
       "\n",
       "[1381 rows x 2 columns]"
      ]
     },
     "execution_count": 66,
     "metadata": {},
     "output_type": "execute_result"
    }
   ],
   "source": [
    "SPORTS_sample"
   ]
  },
  {
   "cell_type": "code",
   "execution_count": 67,
   "metadata": {},
   "outputs": [
    {
     "data": {
      "text/plain": [
       "category\n",
       "BUSINESS    1381\n",
       "SPORTS      1381\n",
       "CRIME       1381\n",
       "SCIENCE     1381\n",
       "Name: count, dtype: int64"
      ]
     },
     "execution_count": 67,
     "metadata": {},
     "output_type": "execute_result"
    }
   ],
   "source": [
    "df_training_balanced= pd.concat([BUSINESS_sample, SPORTS_sample, CRIME_sample, SCIENCE_sample], axis=0)\n",
    "df_training_balanced.category.value_counts()"
   ]
  },
  {
   "cell_type": "code",
   "execution_count": 68,
   "metadata": {},
   "outputs": [],
   "source": [
    "\n",
    "df_training_balanced['category_num']=df_training_balanced.category.map(\n",
    "{'BUSINESS':0, 'SPORTS':1, 'CRIME':2, 'SCIENCE':3}\n",
    ")"
   ]
  },
  {
   "cell_type": "code",
   "execution_count": 69,
   "metadata": {},
   "outputs": [
    {
     "data": {
      "text/html": [
       "<div>\n",
       "<style scoped>\n",
       "    .dataframe tbody tr th:only-of-type {\n",
       "        vertical-align: middle;\n",
       "    }\n",
       "\n",
       "    .dataframe tbody tr th {\n",
       "        vertical-align: top;\n",
       "    }\n",
       "\n",
       "    .dataframe thead th {\n",
       "        text-align: right;\n",
       "    }\n",
       "</style>\n",
       "<table border=\"1\" class=\"dataframe\">\n",
       "  <thead>\n",
       "    <tr style=\"text-align: right;\">\n",
       "      <th></th>\n",
       "      <th>text</th>\n",
       "      <th>category</th>\n",
       "      <th>category_num</th>\n",
       "    </tr>\n",
       "  </thead>\n",
       "  <tbody>\n",
       "    <tr>\n",
       "      <th>2487</th>\n",
       "      <td>Amazon To Challenge Alibaba In Global Delivery...</td>\n",
       "      <td>BUSINESS</td>\n",
       "      <td>0</td>\n",
       "    </tr>\n",
       "    <tr>\n",
       "      <th>12534</th>\n",
       "      <td>A Tale of Two Investors Like many investors, P...</td>\n",
       "      <td>BUSINESS</td>\n",
       "      <td>0</td>\n",
       "    </tr>\n",
       "    <tr>\n",
       "      <th>10014</th>\n",
       "      <td>Quit Working So Hard At the end of the day, ho...</td>\n",
       "      <td>BUSINESS</td>\n",
       "      <td>0</td>\n",
       "    </tr>\n",
       "    <tr>\n",
       "      <th>4605</th>\n",
       "      <td>The Rating Game It's hard to find a restaurant...</td>\n",
       "      <td>BUSINESS</td>\n",
       "      <td>0</td>\n",
       "    </tr>\n",
       "    <tr>\n",
       "      <th>6833</th>\n",
       "      <td>Has Instant Messaging Become More Annoying Tha...</td>\n",
       "      <td>BUSINESS</td>\n",
       "      <td>0</td>\n",
       "    </tr>\n",
       "    <tr>\n",
       "      <th>...</th>\n",
       "      <td>...</td>\n",
       "      <td>...</td>\n",
       "      <td>...</td>\n",
       "    </tr>\n",
       "    <tr>\n",
       "      <th>12632</th>\n",
       "      <td>New Continent Zealandia Is Discovered Underwat...</td>\n",
       "      <td>SCIENCE</td>\n",
       "      <td>3</td>\n",
       "    </tr>\n",
       "    <tr>\n",
       "      <th>12644</th>\n",
       "      <td>Smartphone Lovers More Likely To Forget Things...</td>\n",
       "      <td>SCIENCE</td>\n",
       "      <td>3</td>\n",
       "    </tr>\n",
       "    <tr>\n",
       "      <th>12669</th>\n",
       "      <td>Ambitious Test On Tap For Real-Life 'Flying Sa...</td>\n",
       "      <td>SCIENCE</td>\n",
       "      <td>3</td>\n",
       "    </tr>\n",
       "    <tr>\n",
       "      <th>12691</th>\n",
       "      <td>This Minivan-Sized Sea Sponge Is Thought To Be...</td>\n",
       "      <td>SCIENCE</td>\n",
       "      <td>3</td>\n",
       "    </tr>\n",
       "    <tr>\n",
       "      <th>12692</th>\n",
       "      <td>RECAP: Dramatic Eclipse Photos Don't miss the ...</td>\n",
       "      <td>SCIENCE</td>\n",
       "      <td>3</td>\n",
       "    </tr>\n",
       "  </tbody>\n",
       "</table>\n",
       "<p>5524 rows × 3 columns</p>\n",
       "</div>"
      ],
      "text/plain": [
       "                                                    text  category  \\\n",
       "2487   Amazon To Challenge Alibaba In Global Delivery...  BUSINESS   \n",
       "12534  A Tale of Two Investors Like many investors, P...  BUSINESS   \n",
       "10014  Quit Working So Hard At the end of the day, ho...  BUSINESS   \n",
       "4605   The Rating Game It's hard to find a restaurant...  BUSINESS   \n",
       "6833   Has Instant Messaging Become More Annoying Tha...  BUSINESS   \n",
       "...                                                  ...       ...   \n",
       "12632  New Continent Zealandia Is Discovered Underwat...   SCIENCE   \n",
       "12644  Smartphone Lovers More Likely To Forget Things...   SCIENCE   \n",
       "12669  Ambitious Test On Tap For Real-Life 'Flying Sa...   SCIENCE   \n",
       "12691  This Minivan-Sized Sea Sponge Is Thought To Be...   SCIENCE   \n",
       "12692  RECAP: Dramatic Eclipse Photos Don't miss the ...   SCIENCE   \n",
       "\n",
       "       category_num  \n",
       "2487              0  \n",
       "12534             0  \n",
       "10014             0  \n",
       "4605              0  \n",
       "6833              0  \n",
       "...             ...  \n",
       "12632             3  \n",
       "12644             3  \n",
       "12669             3  \n",
       "12691             3  \n",
       "12692             3  \n",
       "\n",
       "[5524 rows x 3 columns]"
      ]
     },
     "execution_count": 69,
     "metadata": {},
     "output_type": "execute_result"
    }
   ],
   "source": [
    "df_training_balanced"
   ]
  },
  {
   "cell_type": "code",
   "execution_count": 70,
   "metadata": {},
   "outputs": [],
   "source": [
    "from sklearn.model_selection import train_test_split\n",
    "\n",
    "X_train , X_test, y_train , y_test = train_test_split(df_training_balanced.text,df_training_balanced.category_num, \n",
    "                                                      test_size=0.2 , random_state=2024,\n",
    "                                                      stratify=df_training_balanced.category_num)"
   ]
  },
  {
   "cell_type": "code",
   "execution_count": 71,
   "metadata": {},
   "outputs": [
    {
     "data": {
      "text/plain": [
       "category_num\n",
       "0    277\n",
       "1    276\n",
       "3    276\n",
       "2    276\n",
       "Name: count, dtype: int64"
      ]
     },
     "execution_count": 71,
     "metadata": {},
     "output_type": "execute_result"
    }
   ],
   "source": [
    "y_test.value_counts()"
   ]
  },
  {
   "cell_type": "code",
   "execution_count": 72,
   "metadata": {},
   "outputs": [],
   "source": [
    "from  sklearn.naive_bayes import MultinomialNB\n",
    "from sklearn.pipeline import Pipeline\n",
    "from sklearn.metrics import classification_report\n"
   ]
  },
  {
   "cell_type": "code",
   "execution_count": 78,
   "metadata": {},
   "outputs": [
    {
     "name": "stdout",
     "output_type": "stream",
     "text": [
      "              precision    recall  f1-score   support\n",
      "\n",
      "           0       0.72      0.91      0.80       277\n",
      "           1       0.93      0.82      0.87       276\n",
      "           2       0.90      0.90      0.90       276\n",
      "           3       0.92      0.79      0.85       276\n",
      "\n",
      "    accuracy                           0.85      1105\n",
      "   macro avg       0.87      0.85      0.86      1105\n",
      "weighted avg       0.87      0.85      0.86      1105\n",
      "\n"
     ]
    }
   ],
   "source": [
    "clf= Pipeline([('vectorizer_bow', CountVectorizer(ngram_range=(1,2))),\n",
    "          (\"Multi NB\", MultinomialNB())\n",
    "          ])\n",
    "clf.fit(X_train, y_train)\n",
    "y_pred=clf.predict(X_test)\n",
    "\n",
    "print(classification_report(y_test, y_pred))\n"
   ]
  },
  {
   "cell_type": "code",
   "execution_count": 74,
   "metadata": {},
   "outputs": [],
   "source": [
    "df_training_balanced[\"preprcessing_text\"]=df_training_balanced.text.apply(preprocessing)"
   ]
  },
  {
   "cell_type": "code",
   "execution_count": 75,
   "metadata": {},
   "outputs": [
    {
     "data": {
      "text/html": [
       "<div>\n",
       "<style scoped>\n",
       "    .dataframe tbody tr th:only-of-type {\n",
       "        vertical-align: middle;\n",
       "    }\n",
       "\n",
       "    .dataframe tbody tr th {\n",
       "        vertical-align: top;\n",
       "    }\n",
       "\n",
       "    .dataframe thead th {\n",
       "        text-align: right;\n",
       "    }\n",
       "</style>\n",
       "<table border=\"1\" class=\"dataframe\">\n",
       "  <thead>\n",
       "    <tr style=\"text-align: right;\">\n",
       "      <th></th>\n",
       "      <th>text</th>\n",
       "      <th>category</th>\n",
       "      <th>category_num</th>\n",
       "      <th>preprcessing_text</th>\n",
       "    </tr>\n",
       "  </thead>\n",
       "  <tbody>\n",
       "    <tr>\n",
       "      <th>2487</th>\n",
       "      <td>Amazon To Challenge Alibaba In Global Delivery...</td>\n",
       "      <td>BUSINESS</td>\n",
       "      <td>0</td>\n",
       "      <td>Amazon challenge Alibaba Global Delivery Marke...</td>\n",
       "    </tr>\n",
       "    <tr>\n",
       "      <th>12534</th>\n",
       "      <td>A Tale of Two Investors Like many investors, P...</td>\n",
       "      <td>BUSINESS</td>\n",
       "      <td>0</td>\n",
       "      <td>Tale Investors like investor Paul Mary trust W...</td>\n",
       "    </tr>\n",
       "    <tr>\n",
       "      <th>10014</th>\n",
       "      <td>Quit Working So Hard At the end of the day, ho...</td>\n",
       "      <td>BUSINESS</td>\n",
       "      <td>0</td>\n",
       "      <td>Quit Working hard end day time purely truly pr...</td>\n",
       "    </tr>\n",
       "    <tr>\n",
       "      <th>4605</th>\n",
       "      <td>The Rating Game It's hard to find a restaurant...</td>\n",
       "      <td>BUSINESS</td>\n",
       "      <td>0</td>\n",
       "      <td>Rating Game hard find restaurant place little ...</td>\n",
       "    </tr>\n",
       "    <tr>\n",
       "      <th>6833</th>\n",
       "      <td>Has Instant Messaging Become More Annoying Tha...</td>\n",
       "      <td>BUSINESS</td>\n",
       "      <td>0</td>\n",
       "      <td>instant messaging annoying Email 5 step produc...</td>\n",
       "    </tr>\n",
       "  </tbody>\n",
       "</table>\n",
       "</div>"
      ],
      "text/plain": [
       "                                                    text  category  \\\n",
       "2487   Amazon To Challenge Alibaba In Global Delivery...  BUSINESS   \n",
       "12534  A Tale of Two Investors Like many investors, P...  BUSINESS   \n",
       "10014  Quit Working So Hard At the end of the day, ho...  BUSINESS   \n",
       "4605   The Rating Game It's hard to find a restaurant...  BUSINESS   \n",
       "6833   Has Instant Messaging Become More Annoying Tha...  BUSINESS   \n",
       "\n",
       "       category_num                                  preprcessing_text  \n",
       "2487              0  Amazon challenge Alibaba Global Delivery Marke...  \n",
       "12534             0  Tale Investors like investor Paul Mary trust W...  \n",
       "10014             0  Quit Working hard end day time purely truly pr...  \n",
       "4605              0  Rating Game hard find restaurant place little ...  \n",
       "6833              0  instant messaging annoying Email 5 step produc...  "
      ]
     },
     "execution_count": 75,
     "metadata": {},
     "output_type": "execute_result"
    }
   ],
   "source": [
    "df_training_balanced.head()"
   ]
  },
  {
   "cell_type": "code",
   "execution_count": 76,
   "metadata": {},
   "outputs": [],
   "source": [
    "X_train2 , X_test2, y_train2 , y_test2 = train_test_split(df_training_balanced.preprcessing_text,df_training_balanced.category_num, \n",
    "                                                      test_size=0.2 , random_state=2024,\n",
    "                                                      stratify=df_training_balanced.category_num)"
   ]
  },
  {
   "cell_type": "code",
   "execution_count": 79,
   "metadata": {},
   "outputs": [
    {
     "name": "stdout",
     "output_type": "stream",
     "text": [
      "              precision    recall  f1-score   support\n",
      "\n",
      "           0       0.82      0.88      0.85       277\n",
      "           1       0.90      0.86      0.88       276\n",
      "           2       0.86      0.93      0.89       276\n",
      "           3       0.93      0.82      0.87       276\n",
      "\n",
      "    accuracy                           0.87      1105\n",
      "   macro avg       0.88      0.87      0.87      1105\n",
      "weighted avg       0.88      0.87      0.87      1105\n",
      "\n"
     ]
    }
   ],
   "source": [
    "clf2= Pipeline([('vectorizer_bow', CountVectorizer(ngram_range=(1,2))),\n",
    "          (\"Multi NB\", MultinomialNB())\n",
    "          ])\n",
    "clf.fit(X_train2, y_train2)\n",
    "y_pred2=clf.predict(X_test2)\n",
    "\n",
    "print(classification_report(y_test2, y_pred2))"
   ]
  }
 ],
 "metadata": {
  "kernelspec": {
   "display_name": "classifVnv",
   "language": "python",
   "name": "python3"
  },
  "language_info": {
   "codemirror_mode": {
    "name": "ipython",
    "version": 3
   },
   "file_extension": ".py",
   "mimetype": "text/x-python",
   "name": "python",
   "nbconvert_exporter": "python",
   "pygments_lexer": "ipython3",
   "version": "3.8.10"
  }
 },
 "nbformat": 4,
 "nbformat_minor": 2
}
