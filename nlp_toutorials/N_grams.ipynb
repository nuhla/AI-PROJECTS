{
 "cells": [
  {
   "cell_type": "code",
   "execution_count": 1,
   "metadata": {},
   "outputs": [],
   "source": [
    "from sklearn.feature_extraction.text import CountVectorizer"
   ]
  },
  {
   "cell_type": "code",
   "execution_count": 5,
   "metadata": {},
   "outputs": [
    {
     "data": {
      "text/plain": [
       "{'thor': 18,\n",
       " 'hathodwala': 3,\n",
       " 'looking': 14,\n",
       " 'for': 0,\n",
       " 'job': 6,\n",
       " 'just': 9,\n",
       " 'like': 12,\n",
       " 'me': 17,\n",
       " 'thor hathodwala': 19,\n",
       " 'hathodwala looking': 4,\n",
       " 'looking for': 15,\n",
       " 'for job': 1,\n",
       " 'job just': 7,\n",
       " 'just like': 10,\n",
       " 'like me': 13,\n",
       " 'thor hathodwala looking': 20,\n",
       " 'hathodwala looking for': 5,\n",
       " 'looking for job': 16,\n",
       " 'for job just': 2,\n",
       " 'job just like': 8,\n",
       " 'just like me': 11}"
      ]
     },
     "execution_count": 5,
     "metadata": {},
     "output_type": "execute_result"
    }
   ],
   "source": [
    "v = CountVectorizer(ngram_range=(1,3))\n",
    "v.fit(['Thor Hathodwala s looking for a job just like me :)'])\n",
    "v.vocabulary_"
   ]
  },
  {
   "cell_type": "code",
   "execution_count": 6,
   "metadata": {},
   "outputs": [],
   "source": [
    "corpus =[\n",
    "    \"thor ate pizza\",\n",
    "    \"laila is tall\",\n",
    "    \"laila is cooling water\",\n",
    "]"
   ]
  },
  {
   "cell_type": "code",
   "execution_count": 7,
   "metadata": {},
   "outputs": [],
   "source": [
    "import spacy\n",
    "nlp = spacy.load(\"en_core_web_sm\")\n",
    "\n",
    "\n",
    "def preprocessing(text):\n",
    "    doc = nlp(text)\n",
    "\n",
    "    filtered_token= []\n",
    "    for token in doc:\n",
    "        if token.is_stop or token.is_punct:\n",
    "            continue\n",
    "        filtered_token.append(token.lemma_)\n",
    "\n",
    "    return \" \".join(filtered_token)\n"
   ]
  },
  {
   "cell_type": "code",
   "execution_count": 8,
   "metadata": {},
   "outputs": [
    {
     "data": {
      "text/plain": [
       "'thor eat pizza'"
      ]
     },
     "execution_count": 8,
     "metadata": {},
     "output_type": "execute_result"
    }
   ],
   "source": [
    "preprocessing(\"thor ate pizza\")# convert ate to eat the pas verb"
   ]
  },
  {
   "cell_type": "code",
   "execution_count": 9,
   "metadata": {},
   "outputs": [],
   "source": [
    "corpus_process = [preprocessing(text) for text in corpus]"
   ]
  },
  {
   "cell_type": "code",
   "execution_count": 10,
   "metadata": {},
   "outputs": [
    {
     "data": {
      "text/plain": [
       "['thor eat pizza', 'laila tall', 'laila cool water']"
      ]
     },
     "execution_count": 10,
     "metadata": {},
     "output_type": "execute_result"
    }
   ],
   "source": [
    "corpus_process"
   ]
  },
  {
   "cell_type": "code",
   "execution_count": 11,
   "metadata": {},
   "outputs": [
    {
     "data": {
      "text/plain": [
       "{'thor': 9,\n",
       " 'eat': 2,\n",
       " 'pizza': 7,\n",
       " 'thor eat': 10,\n",
       " 'eat pizza': 3,\n",
       " 'laila': 4,\n",
       " 'tall': 8,\n",
       " 'laila tall': 6,\n",
       " 'cool': 0,\n",
       " 'water': 11,\n",
       " 'laila cool': 5,\n",
       " 'cool water': 1}"
      ]
     },
     "execution_count": 11,
     "metadata": {},
     "output_type": "execute_result"
    }
   ],
   "source": [
    "v = CountVectorizer(ngram_range=(1,2))\n",
    "v.fit(corpus_process)\n",
    "v.vocabulary_"
   ]
  },
  {
   "cell_type": "code",
   "execution_count": 13,
   "metadata": {},
   "outputs": [],
   "source": [
    "vectore = v.transform([\"thor ate pizza\"])"
   ]
  },
  {
   "cell_type": "code",
   "execution_count": 15,
   "metadata": {},
   "outputs": [
    {
     "data": {
      "text/plain": [
       "array([[0, 0, 0, 0, 0, 0, 0, 1, 0, 1, 0, 0]], dtype=int64)"
      ]
     },
     "execution_count": 15,
     "metadata": {},
     "output_type": "execute_result"
    }
   ],
   "source": [
    "vectore.toarray()"
   ]
  },
  {
   "cell_type": "code",
   "execution_count": 17,
   "metadata": {},
   "outputs": [
    {
     "data": {
      "text/html": [
       "<div>\n",
       "<style scoped>\n",
       "    .dataframe tbody tr th:only-of-type {\n",
       "        vertical-align: middle;\n",
       "    }\n",
       "\n",
       "    .dataframe tbody tr th {\n",
       "        vertical-align: top;\n",
       "    }\n",
       "\n",
       "    .dataframe thead th {\n",
       "        text-align: right;\n",
       "    }\n",
       "</style>\n",
       "<table border=\"1\" class=\"dataframe\">\n",
       "  <thead>\n",
       "    <tr style=\"text-align: right;\">\n",
       "      <th></th>\n",
       "      <th>short_description</th>\n",
       "      <th>headline</th>\n",
       "      <th>date</th>\n",
       "      <th>link</th>\n",
       "      <th>authors</th>\n",
       "      <th>category</th>\n",
       "    </tr>\n",
       "  </thead>\n",
       "  <tbody>\n",
       "    <tr>\n",
       "      <th>0</th>\n",
       "      <td>She left her husband. He killed their children...</td>\n",
       "      <td>There Were 2 Mass Shootings In Texas Last Week...</td>\n",
       "      <td>2018-05-26</td>\n",
       "      <td>https://www.huffingtonpost.com/entry/texas-ama...</td>\n",
       "      <td>Melissa Jeltsen</td>\n",
       "      <td>CRIME</td>\n",
       "    </tr>\n",
       "    <tr>\n",
       "      <th>1</th>\n",
       "      <td>Of course it has a song.</td>\n",
       "      <td>Will Smith Joins Diplo And Nicky Jam For The 2...</td>\n",
       "      <td>2018-05-26</td>\n",
       "      <td>https://www.huffingtonpost.com/entry/will-smit...</td>\n",
       "      <td>Andy McDonald</td>\n",
       "      <td>ENTERTAINMENT</td>\n",
       "    </tr>\n",
       "    <tr>\n",
       "      <th>2</th>\n",
       "      <td>The actor and his longtime girlfriend Anna Ebe...</td>\n",
       "      <td>Hugh Grant Marries For The First Time At Age 57</td>\n",
       "      <td>2018-05-26</td>\n",
       "      <td>https://www.huffingtonpost.com/entry/hugh-gran...</td>\n",
       "      <td>Ron Dicker</td>\n",
       "      <td>ENTERTAINMENT</td>\n",
       "    </tr>\n",
       "    <tr>\n",
       "      <th>3</th>\n",
       "      <td>The actor gives Dems an ass-kicking for not fi...</td>\n",
       "      <td>Jim Carrey Blasts 'Castrato' Adam Schiff And D...</td>\n",
       "      <td>2018-05-26</td>\n",
       "      <td>https://www.huffingtonpost.com/entry/jim-carre...</td>\n",
       "      <td>Ron Dicker</td>\n",
       "      <td>ENTERTAINMENT</td>\n",
       "    </tr>\n",
       "    <tr>\n",
       "      <th>4</th>\n",
       "      <td>The \"Dietland\" actress said using the bags is ...</td>\n",
       "      <td>Julianna Margulies Uses Donald Trump Poop Bags...</td>\n",
       "      <td>2018-05-26</td>\n",
       "      <td>https://www.huffingtonpost.com/entry/julianna-...</td>\n",
       "      <td>Ron Dicker</td>\n",
       "      <td>ENTERTAINMENT</td>\n",
       "    </tr>\n",
       "    <tr>\n",
       "      <th>5</th>\n",
       "      <td>\"It is not right to equate horrific incidents ...</td>\n",
       "      <td>Morgan Freeman 'Devastated' That Sexual Harass...</td>\n",
       "      <td>2018-05-26</td>\n",
       "      <td>https://www.huffingtonpost.com/entry/morgan-fr...</td>\n",
       "      <td>Ron Dicker</td>\n",
       "      <td>ENTERTAINMENT</td>\n",
       "    </tr>\n",
       "    <tr>\n",
       "      <th>6</th>\n",
       "      <td>It's catchy, all right.</td>\n",
       "      <td>Donald Trump Is Lovin' New McDonald's Jingle I...</td>\n",
       "      <td>2018-05-26</td>\n",
       "      <td>https://www.huffingtonpost.com/entry/donald-tr...</td>\n",
       "      <td>Ron Dicker</td>\n",
       "      <td>ENTERTAINMENT</td>\n",
       "    </tr>\n",
       "    <tr>\n",
       "      <th>7</th>\n",
       "      <td>There's a great mini-series joining this week.</td>\n",
       "      <td>What To Watch On Amazon Prime That’s New This ...</td>\n",
       "      <td>2018-05-26</td>\n",
       "      <td>https://www.huffingtonpost.com/entry/amazon-pr...</td>\n",
       "      <td>Todd Van Luling</td>\n",
       "      <td>ENTERTAINMENT</td>\n",
       "    </tr>\n",
       "    <tr>\n",
       "      <th>8</th>\n",
       "      <td>Myer's kids may be pushing for a new \"Powers\" ...</td>\n",
       "      <td>Mike Myers Reveals He'd 'Like To' Do A Fourth ...</td>\n",
       "      <td>2018-05-26</td>\n",
       "      <td>https://www.huffingtonpost.com/entry/mike-myer...</td>\n",
       "      <td>Andy McDonald</td>\n",
       "      <td>ENTERTAINMENT</td>\n",
       "    </tr>\n",
       "    <tr>\n",
       "      <th>9</th>\n",
       "      <td>You're getting a recent Academy Award-winning ...</td>\n",
       "      <td>What To Watch On Hulu That’s New This Week</td>\n",
       "      <td>2018-05-26</td>\n",
       "      <td>https://www.huffingtonpost.com/entry/hulu-what...</td>\n",
       "      <td>Todd Van Luling</td>\n",
       "      <td>ENTERTAINMENT</td>\n",
       "    </tr>\n",
       "    <tr>\n",
       "      <th>10</th>\n",
       "      <td>The pop star also wore a \"Santa Fe Strong\" shi...</td>\n",
       "      <td>Justin Timberlake Visits Texas School Shooting...</td>\n",
       "      <td>2018-05-26</td>\n",
       "      <td>https://www.huffingtonpost.com/entry/justin-ti...</td>\n",
       "      <td>Sebastian Murdock</td>\n",
       "      <td>ENTERTAINMENT</td>\n",
       "    </tr>\n",
       "    <tr>\n",
       "      <th>11</th>\n",
       "      <td>The two met to pave the way for a summit betwe...</td>\n",
       "      <td>South Korean President Meets North Korea's Kim...</td>\n",
       "      <td>2018-05-26</td>\n",
       "      <td>https://www.huffingtonpost.com/entry/south-kor...</td>\n",
       "      <td></td>\n",
       "      <td>WORLD NEWS</td>\n",
       "    </tr>\n",
       "    <tr>\n",
       "      <th>12</th>\n",
       "      <td>The revolution is coming to rural New Brunswick.</td>\n",
       "      <td>With Its Way Of Life At Risk, This Remote Oyst...</td>\n",
       "      <td>2018-05-26</td>\n",
       "      <td>https://www.huffingtonpost.com/entry/remote-oy...</td>\n",
       "      <td>Karen Pinchin</td>\n",
       "      <td>IMPACT</td>\n",
       "    </tr>\n",
       "    <tr>\n",
       "      <th>13</th>\n",
       "      <td>Last month a Health and Human Services officia...</td>\n",
       "      <td>Trump's Crackdown On Immigrant Parents Puts Mo...</td>\n",
       "      <td>2018-05-26</td>\n",
       "      <td>https://www.huffingtonpost.com/entry/immigrant...</td>\n",
       "      <td>Elise Foley and Roque Planas</td>\n",
       "      <td>POLITICS</td>\n",
       "    </tr>\n",
       "    <tr>\n",
       "      <th>14</th>\n",
       "      <td>The wiretaps feature conversations between Ale...</td>\n",
       "      <td>'Trump's Son Should Be Concerned': FBI Obtaine...</td>\n",
       "      <td>2018-05-26</td>\n",
       "      <td>https://www.huffingtonpost.com/entry/fbi-wiret...</td>\n",
       "      <td>Michael Isikoff, Yahoo News</td>\n",
       "      <td>POLITICS</td>\n",
       "    </tr>\n",
       "  </tbody>\n",
       "</table>\n",
       "</div>"
      ],
      "text/plain": [
       "                                    short_description  \\\n",
       "0   She left her husband. He killed their children...   \n",
       "1                            Of course it has a song.   \n",
       "2   The actor and his longtime girlfriend Anna Ebe...   \n",
       "3   The actor gives Dems an ass-kicking for not fi...   \n",
       "4   The \"Dietland\" actress said using the bags is ...   \n",
       "5   \"It is not right to equate horrific incidents ...   \n",
       "6                             It's catchy, all right.   \n",
       "7      There's a great mini-series joining this week.   \n",
       "8   Myer's kids may be pushing for a new \"Powers\" ...   \n",
       "9   You're getting a recent Academy Award-winning ...   \n",
       "10  The pop star also wore a \"Santa Fe Strong\" shi...   \n",
       "11  The two met to pave the way for a summit betwe...   \n",
       "12   The revolution is coming to rural New Brunswick.   \n",
       "13  Last month a Health and Human Services officia...   \n",
       "14  The wiretaps feature conversations between Ale...   \n",
       "\n",
       "                                             headline       date  \\\n",
       "0   There Were 2 Mass Shootings In Texas Last Week... 2018-05-26   \n",
       "1   Will Smith Joins Diplo And Nicky Jam For The 2... 2018-05-26   \n",
       "2     Hugh Grant Marries For The First Time At Age 57 2018-05-26   \n",
       "3   Jim Carrey Blasts 'Castrato' Adam Schiff And D... 2018-05-26   \n",
       "4   Julianna Margulies Uses Donald Trump Poop Bags... 2018-05-26   \n",
       "5   Morgan Freeman 'Devastated' That Sexual Harass... 2018-05-26   \n",
       "6   Donald Trump Is Lovin' New McDonald's Jingle I... 2018-05-26   \n",
       "7   What To Watch On Amazon Prime That’s New This ... 2018-05-26   \n",
       "8   Mike Myers Reveals He'd 'Like To' Do A Fourth ... 2018-05-26   \n",
       "9          What To Watch On Hulu That’s New This Week 2018-05-26   \n",
       "10  Justin Timberlake Visits Texas School Shooting... 2018-05-26   \n",
       "11  South Korean President Meets North Korea's Kim... 2018-05-26   \n",
       "12  With Its Way Of Life At Risk, This Remote Oyst... 2018-05-26   \n",
       "13  Trump's Crackdown On Immigrant Parents Puts Mo... 2018-05-26   \n",
       "14  'Trump's Son Should Be Concerned': FBI Obtaine... 2018-05-26   \n",
       "\n",
       "                                                 link  \\\n",
       "0   https://www.huffingtonpost.com/entry/texas-ama...   \n",
       "1   https://www.huffingtonpost.com/entry/will-smit...   \n",
       "2   https://www.huffingtonpost.com/entry/hugh-gran...   \n",
       "3   https://www.huffingtonpost.com/entry/jim-carre...   \n",
       "4   https://www.huffingtonpost.com/entry/julianna-...   \n",
       "5   https://www.huffingtonpost.com/entry/morgan-fr...   \n",
       "6   https://www.huffingtonpost.com/entry/donald-tr...   \n",
       "7   https://www.huffingtonpost.com/entry/amazon-pr...   \n",
       "8   https://www.huffingtonpost.com/entry/mike-myer...   \n",
       "9   https://www.huffingtonpost.com/entry/hulu-what...   \n",
       "10  https://www.huffingtonpost.com/entry/justin-ti...   \n",
       "11  https://www.huffingtonpost.com/entry/south-kor...   \n",
       "12  https://www.huffingtonpost.com/entry/remote-oy...   \n",
       "13  https://www.huffingtonpost.com/entry/immigrant...   \n",
       "14  https://www.huffingtonpost.com/entry/fbi-wiret...   \n",
       "\n",
       "                         authors       category  \n",
       "0                Melissa Jeltsen          CRIME  \n",
       "1                  Andy McDonald  ENTERTAINMENT  \n",
       "2                     Ron Dicker  ENTERTAINMENT  \n",
       "3                     Ron Dicker  ENTERTAINMENT  \n",
       "4                     Ron Dicker  ENTERTAINMENT  \n",
       "5                     Ron Dicker  ENTERTAINMENT  \n",
       "6                     Ron Dicker  ENTERTAINMENT  \n",
       "7                Todd Van Luling  ENTERTAINMENT  \n",
       "8                  Andy McDonald  ENTERTAINMENT  \n",
       "9                Todd Van Luling  ENTERTAINMENT  \n",
       "10             Sebastian Murdock  ENTERTAINMENT  \n",
       "11                                   WORLD NEWS  \n",
       "12                 Karen Pinchin         IMPACT  \n",
       "13  Elise Foley and Roque Planas       POLITICS  \n",
       "14   Michael Isikoff, Yahoo News       POLITICS  "
      ]
     },
     "execution_count": 17,
     "metadata": {},
     "output_type": "execute_result"
    }
   ],
   "source": [
    "import pandas as pd\n",
    "\n",
    "df = pd.read_json(\"News_Category_Dataset.json\" ,lines=True )\n",
    "df.head(15)"
   ]
  },
  {
   "cell_type": "code",
   "execution_count": 18,
   "metadata": {},
   "outputs": [
    {
     "data": {
      "text/plain": [
       "category\n",
       "POLITICS          32739\n",
       "ENTERTAINMENT     14257\n",
       "HEALTHY LIVING     6694\n",
       "QUEER VOICES       4995\n",
       "BUSINESS           4254\n",
       "SPORTS             4167\n",
       "COMEDY             3971\n",
       "PARENTS            3955\n",
       "BLACK VOICES       3858\n",
       "THE WORLDPOST      3664\n",
       "WOMEN              3490\n",
       "CRIME              2893\n",
       "MEDIA              2815\n",
       "WEIRD NEWS         2670\n",
       "GREEN              2622\n",
       "IMPACT             2602\n",
       "WORLDPOST          2579\n",
       "RELIGION           2556\n",
       "STYLE              2254\n",
       "WORLD NEWS         2177\n",
       "TRAVEL             2145\n",
       "TASTE              2096\n",
       "ARTS               1509\n",
       "FIFTY              1401\n",
       "GOOD NEWS          1398\n",
       "SCIENCE            1381\n",
       "ARTS & CULTURE     1339\n",
       "TECH               1231\n",
       "COLLEGE            1144\n",
       "LATINO VOICES      1129\n",
       "EDUCATION          1004\n",
       "Name: count, dtype: int64"
      ]
     },
     "execution_count": 18,
     "metadata": {},
     "output_type": "execute_result"
    }
   ],
   "source": [
    "df.category.value_counts()"
   ]
  },
  {
   "cell_type": "code",
   "execution_count": null,
   "metadata": {},
   "outputs": [],
   "source": []
  }
 ],
 "metadata": {
  "kernelspec": {
   "display_name": "classifVnv",
   "language": "python",
   "name": "python3"
  },
  "language_info": {
   "codemirror_mode": {
    "name": "ipython",
    "version": 3
   },
   "file_extension": ".py",
   "mimetype": "text/x-python",
   "name": "python",
   "nbconvert_exporter": "python",
   "pygments_lexer": "ipython3",
   "version": "3.8.10"
  }
 },
 "nbformat": 4,
 "nbformat_minor": 2
}
