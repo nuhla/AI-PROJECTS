{
 "cells": [
  {
   "cell_type": "markdown",
   "metadata": {},
   "source": [
    "## Import Dependencie and data"
   ]
  },
  {
   "cell_type": "code",
   "execution_count": 1,
   "metadata": {},
   "outputs": [
    {
     "data": {
      "text/plain": [
       "['WARNING: Ignoring invalid distribution -ip (d:\\\\pythonprojects\\\\deepcnn image clasif\\\\classifvnv\\\\lib\\\\site-packages)',\n",
       " 'WARNING: Ignoring invalid distribution -ip (d:\\\\pythonprojects\\\\deepcnn image clasif\\\\classifvnv\\\\lib\\\\site-packages)',\n",
       " 'Requirement already satisfied: tensorflow in d:\\\\pythonprojects\\\\deepcnn image clasif\\\\classifvnv\\\\lib\\\\site-packages (2.13.0)',\n",
       " 'Collecting tensorflow-gpu',\n",
       " '  Using cached tensorflow-gpu-2.12.0.tar.gz (2.6 kB)',\n",
       " 'Requirement already satisfied: matplotlib in d:\\\\pythonprojects\\\\deepcnn image clasif\\\\classifvnv\\\\lib\\\\site-packages (3.7.5)',\n",
       " 'Requirement already satisfied: tensorflow-datasets in d:\\\\pythonprojects\\\\deepcnn image clasif\\\\classifvnv\\\\lib\\\\site-packages (4.9.2)',\n",
       " 'Collecting ipywidgets',\n",
       " '  Using cached ipywidgets-8.1.5-py3-none-any.whl (139 kB)',\n",
       " 'Requirement already satisfied: tensorflow-intel==2.13.0 in d:\\\\pythonprojects\\\\deepcnn image clasif\\\\classifvnv\\\\lib\\\\site-packages (from tensorflow) (2.13.0)',\n",
       " 'Requirement already satisfied: tensorflow-estimator<2.14,>=2.13.0 in d:\\\\pythonprojects\\\\deepcnn image clasif\\\\classifvnv\\\\lib\\\\site-packages (from tensorflow-intel==2.13.0->tensorflow) (2.13.0)',\n",
       " 'Requirement already satisfied: keras<2.14,>=2.13.1 in d:\\\\pythonprojects\\\\deepcnn image clasif\\\\classifvnv\\\\lib\\\\site-packages (from tensorflow-intel==2.13.0->tensorflow) (2.13.1)',\n",
       " 'Requirement already satisfied: protobuf!=4.21.0,!=4.21.1,!=4.21.2,!=4.21.3,!=4.21.4,!=4.21.5,<5.0.0dev,>=3.20.3 in d:\\\\pythonprojects\\\\deepcnn image clasif\\\\classifvnv\\\\lib\\\\site-packages (from tensorflow-intel==2.13.0->tensorflow) (3.20.3)',\n",
       " 'Requirement already satisfied: google-pasta>=0.1.1 in d:\\\\pythonprojects\\\\deepcnn image clasif\\\\classifvnv\\\\lib\\\\site-packages (from tensorflow-intel==2.13.0->tensorflow) (0.2.0)',\n",
       " 'Requirement already satisfied: tensorboard<2.14,>=2.13 in d:\\\\pythonprojects\\\\deepcnn image clasif\\\\classifvnv\\\\lib\\\\site-packages (from tensorflow-intel==2.13.0->tensorflow) (2.13.0)',\n",
       " 'Requirement already satisfied: setuptools in d:\\\\pythonprojects\\\\deepcnn image clasif\\\\classifvnv\\\\lib\\\\site-packages (from tensorflow-intel==2.13.0->tensorflow) (56.0.0)',\n",
       " 'Requirement already satisfied: astunparse>=1.6.0 in d:\\\\pythonprojects\\\\deepcnn image clasif\\\\classifvnv\\\\lib\\\\site-packages (from tensorflow-intel==2.13.0->tensorflow) (1.6.3)',\n",
       " 'Collecting typing-extensions<4.6.0,>=3.6.6',\n",
       " '  Using cached typing_extensions-4.5.0-py3-none-any.whl (27 kB)',\n",
       " 'Requirement already satisfied: wrapt>=1.11.0 in d:\\\\pythonprojects\\\\deepcnn image clasif\\\\classifvnv\\\\lib\\\\site-packages (from tensorflow-intel==2.13.0->tensorflow) (1.16.0)',\n",
       " 'Requirement already satisfied: six>=1.12.0 in d:\\\\pythonprojects\\\\deepcnn image clasif\\\\classifvnv\\\\lib\\\\site-packages (from tensorflow-intel==2.13.0->tensorflow) (1.16.0)',\n",
       " 'Requirement already satisfied: termcolor>=1.1.0 in d:\\\\pythonprojects\\\\deepcnn image clasif\\\\classifvnv\\\\lib\\\\site-packages (from tensorflow-intel==2.13.0->tensorflow) (2.4.0)',\n",
       " 'Requirement already satisfied: packaging in d:\\\\pythonprojects\\\\deepcnn image clasif\\\\classifvnv\\\\lib\\\\site-packages (from tensorflow-intel==2.13.0->tensorflow) (24.1)',\n",
       " 'Requirement already satisfied: h5py>=2.9.0 in d:\\\\pythonprojects\\\\deepcnn image clasif\\\\classifvnv\\\\lib\\\\site-packages (from tensorflow-intel==2.13.0->tensorflow) (3.11.0)',\n",
       " 'Requirement already satisfied: absl-py>=1.0.0 in d:\\\\pythonprojects\\\\deepcnn image clasif\\\\classifvnv\\\\lib\\\\site-packages (from tensorflow-intel==2.13.0->tensorflow) (1.4.0)',\n",
       " 'Requirement already satisfied: gast<=0.4.0,>=0.2.1 in d:\\\\pythonprojects\\\\deepcnn image clasif\\\\classifvnv\\\\lib\\\\site-packages (from tensorflow-intel==2.13.0->tensorflow) (0.4.0)',\n",
       " 'Requirement already satisfied: opt-einsum>=2.3.2 in d:\\\\pythonprojects\\\\deepcnn image clasif\\\\classifvnv\\\\lib\\\\site-packages (from tensorflow-intel==2.13.0->tensorflow) (3.3.0)',\n",
       " 'Requirement already satisfied: tensorflow-io-gcs-filesystem>=0.23.1 in d:\\\\pythonprojects\\\\deepcnn image clasif\\\\classifvnv\\\\lib\\\\site-packages (from tensorflow-intel==2.13.0->tensorflow) (0.31.0)',\n",
       " 'Requirement already satisfied: libclang>=13.0.0 in d:\\\\pythonprojects\\\\deepcnn image clasif\\\\classifvnv\\\\lib\\\\site-packages (from tensorflow-intel==2.13.0->tensorflow) (18.1.1)',\n",
       " 'Requirement already satisfied: numpy<=1.24.3,>=1.22 in d:\\\\pythonprojects\\\\deepcnn image clasif\\\\classifvnv\\\\lib\\\\site-packages (from tensorflow-intel==2.13.0->tensorflow) (1.24.3)',\n",
       " 'Requirement already satisfied: flatbuffers>=23.1.21 in d:\\\\pythonprojects\\\\deepcnn image clasif\\\\classifvnv\\\\lib\\\\site-packages (from tensorflow-intel==2.13.0->tensorflow) (24.3.25)',\n",
       " 'Requirement already satisfied: grpcio<2.0,>=1.24.3 in d:\\\\pythonprojects\\\\deepcnn image clasif\\\\classifvnv\\\\lib\\\\site-packages (from tensorflow-intel==2.13.0->tensorflow) (1.64.1)',\n",
       " 'Requirement already satisfied: wheel<1.0,>=0.23.0 in d:\\\\pythonprojects\\\\deepcnn image clasif\\\\classifvnv\\\\lib\\\\site-packages (from astunparse>=1.6.0->tensorflow-intel==2.13.0->tensorflow) (0.43.0)',\n",
       " 'Requirement already satisfied: google-auth-oauthlib<1.1,>=0.5 in d:\\\\pythonprojects\\\\deepcnn image clasif\\\\classifvnv\\\\lib\\\\site-packages (from tensorboard<2.14,>=2.13->tensorflow-intel==2.13.0->tensorflow) (1.0.0)',\n",
       " 'Requirement already satisfied: markdown>=2.6.8 in d:\\\\pythonprojects\\\\deepcnn image clasif\\\\classifvnv\\\\lib\\\\site-packages (from tensorboard<2.14,>=2.13->tensorflow-intel==2.13.0->tensorflow) (3.6)',\n",
       " 'Requirement already satisfied: tensorboard-data-server<0.8.0,>=0.7.0 in d:\\\\pythonprojects\\\\deepcnn image clasif\\\\classifvnv\\\\lib\\\\site-packages (from tensorboard<2.14,>=2.13->tensorflow-intel==2.13.0->tensorflow) (0.7.2)',\n",
       " 'Requirement already satisfied: werkzeug>=1.0.1 in d:\\\\pythonprojects\\\\deepcnn image clasif\\\\classifvnv\\\\lib\\\\site-packages (from tensorboard<2.14,>=2.13->tensorflow-intel==2.13.0->tensorflow) (3.0.3)',\n",
       " 'Requirement already satisfied: requests<3,>=2.21.0 in d:\\\\pythonprojects\\\\deepcnn image clasif\\\\classifvnv\\\\lib\\\\site-packages (from tensorboard<2.14,>=2.13->tensorflow-intel==2.13.0->tensorflow) (2.32.3)',\n",
       " 'Requirement already satisfied: google-auth<3,>=1.6.3 in d:\\\\pythonprojects\\\\deepcnn image clasif\\\\classifvnv\\\\lib\\\\site-packages (from tensorboard<2.14,>=2.13->tensorflow-intel==2.13.0->tensorflow) (2.32.0)',\n",
       " 'Requirement already satisfied: pyasn1-modules>=0.2.1 in d:\\\\pythonprojects\\\\deepcnn image clasif\\\\classifvnv\\\\lib\\\\site-packages (from google-auth<3,>=1.6.3->tensorboard<2.14,>=2.13->tensorflow-intel==2.13.0->tensorflow) (0.4.0)',\n",
       " 'Requirement already satisfied: rsa<5,>=3.1.4 in d:\\\\pythonprojects\\\\deepcnn image clasif\\\\classifvnv\\\\lib\\\\site-packages (from google-auth<3,>=1.6.3->tensorboard<2.14,>=2.13->tensorflow-intel==2.13.0->tensorflow) (4.9)',\n",
       " 'Requirement already satisfied: cachetools<6.0,>=2.0.0 in d:\\\\pythonprojects\\\\deepcnn image clasif\\\\classifvnv\\\\lib\\\\site-packages (from google-auth<3,>=1.6.3->tensorboard<2.14,>=2.13->tensorflow-intel==2.13.0->tensorflow) (5.4.0)',\n",
       " 'Requirement already satisfied: requests-oauthlib>=0.7.0 in d:\\\\pythonprojects\\\\deepcnn image clasif\\\\classifvnv\\\\lib\\\\site-packages (from google-auth-oauthlib<1.1,>=0.5->tensorboard<2.14,>=2.13->tensorflow-intel==2.13.0->tensorflow) (2.0.0)',\n",
       " 'Requirement already satisfied: importlib-metadata>=4.4 in d:\\\\pythonprojects\\\\deepcnn image clasif\\\\classifvnv\\\\lib\\\\site-packages (from markdown>=2.6.8->tensorboard<2.14,>=2.13->tensorflow-intel==2.13.0->tensorflow) (8.0.0)',\n",
       " 'Requirement already satisfied: zipp>=0.5 in d:\\\\pythonprojects\\\\deepcnn image clasif\\\\classifvnv\\\\lib\\\\site-packages (from importlib-metadata>=4.4->markdown>=2.6.8->tensorboard<2.14,>=2.13->tensorflow-intel==2.13.0->tensorflow) (3.19.2)',\n",
       " 'Requirement already satisfied: pyasn1<0.7.0,>=0.4.6 in d:\\\\pythonprojects\\\\deepcnn image clasif\\\\classifvnv\\\\lib\\\\site-packages (from pyasn1-modules>=0.2.1->google-auth<3,>=1.6.3->tensorboard<2.14,>=2.13->tensorflow-intel==2.13.0->tensorflow) (0.6.0)',\n",
       " 'Requirement already satisfied: charset-normalizer<4,>=2 in d:\\\\pythonprojects\\\\deepcnn image clasif\\\\classifvnv\\\\lib\\\\site-packages (from requests<3,>=2.21.0->tensorboard<2.14,>=2.13->tensorflow-intel==2.13.0->tensorflow) (3.3.2)',\n",
       " 'Requirement already satisfied: idna<4,>=2.5 in d:\\\\pythonprojects\\\\deepcnn image clasif\\\\classifvnv\\\\lib\\\\site-packages (from requests<3,>=2.21.0->tensorboard<2.14,>=2.13->tensorflow-intel==2.13.0->tensorflow) (3.7)',\n",
       " 'Requirement already satisfied: urllib3<3,>=1.21.1 in d:\\\\pythonprojects\\\\deepcnn image clasif\\\\classifvnv\\\\lib\\\\site-packages (from requests<3,>=2.21.0->tensorboard<2.14,>=2.13->tensorflow-intel==2.13.0->tensorflow) (2.2.2)',\n",
       " 'Requirement already satisfied: certifi>=2017.4.17 in d:\\\\pythonprojects\\\\deepcnn image clasif\\\\classifvnv\\\\lib\\\\site-packages (from requests<3,>=2.21.0->tensorboard<2.14,>=2.13->tensorflow-intel==2.13.0->tensorflow) (2024.7.4)',\n",
       " 'Requirement already satisfied: oauthlib>=3.0.0 in d:\\\\pythonprojects\\\\deepcnn image clasif\\\\classifvnv\\\\lib\\\\site-packages (from requests-oauthlib>=0.7.0->google-auth-oauthlib<1.1,>=0.5->tensorboard<2.14,>=2.13->tensorflow-intel==2.13.0->tensorflow) (3.2.2)',\n",
       " 'Requirement already satisfied: MarkupSafe>=2.1.1 in d:\\\\pythonprojects\\\\deepcnn image clasif\\\\classifvnv\\\\lib\\\\site-packages (from werkzeug>=1.0.1->tensorboard<2.14,>=2.13->tensorflow-intel==2.13.0->tensorflow) (2.1.5)',\n",
       " 'Requirement already satisfied: python_version>\"3.7\" in d:\\\\pythonprojects\\\\deepcnn image clasif\\\\classifvnv\\\\lib\\\\site-packages (from tensorflow-gpu) (0.0.2)',\n",
       " 'Requirement already satisfied: pillow>=6.2.0 in d:\\\\pythonprojects\\\\deepcnn image clasif\\\\classifvnv\\\\lib\\\\site-packages (from matplotlib) (10.4.0)',\n",
       " 'Requirement already satisfied: fonttools>=4.22.0 in d:\\\\pythonprojects\\\\deepcnn image clasif\\\\classifvnv\\\\lib\\\\site-packages (from matplotlib) (4.53.1)',\n",
       " 'Requirement already satisfied: python-dateutil>=2.7 in d:\\\\pythonprojects\\\\deepcnn image clasif\\\\classifvnv\\\\lib\\\\site-packages (from matplotlib) (2.9.0.post0)',\n",
       " 'Requirement already satisfied: kiwisolver>=1.0.1 in d:\\\\pythonprojects\\\\deepcnn image clasif\\\\classifvnv\\\\lib\\\\site-packages (from matplotlib) (1.4.5)',\n",
       " 'Requirement already satisfied: importlib-resources>=3.2.0 in d:\\\\pythonprojects\\\\deepcnn image clasif\\\\classifvnv\\\\lib\\\\site-packages (from matplotlib) (6.4.0)',\n",
       " 'Requirement already satisfied: pyparsing>=2.3.1 in d:\\\\pythonprojects\\\\deepcnn image clasif\\\\classifvnv\\\\lib\\\\site-packages (from matplotlib) (3.1.2)',\n",
       " 'Requirement already satisfied: contourpy>=1.0.1 in d:\\\\pythonprojects\\\\deepcnn image clasif\\\\classifvnv\\\\lib\\\\site-packages (from matplotlib) (1.1.1)',\n",
       " 'Requirement already satisfied: cycler>=0.10 in d:\\\\pythonprojects\\\\deepcnn image clasif\\\\classifvnv\\\\lib\\\\site-packages (from matplotlib) (0.12.1)',\n",
       " 'Requirement already satisfied: tensorflow-metadata in d:\\\\pythonprojects\\\\deepcnn image clasif\\\\classifvnv\\\\lib\\\\site-packages (from tensorflow-datasets) (1.14.0)',\n",
       " 'Requirement already satisfied: dm-tree in d:\\\\pythonprojects\\\\deepcnn image clasif\\\\classifvnv\\\\lib\\\\site-packages (from tensorflow-datasets) (0.1.8)',\n",
       " 'Requirement already satisfied: toml in d:\\\\pythonprojects\\\\deepcnn image clasif\\\\classifvnv\\\\lib\\\\site-packages (from tensorflow-datasets) (0.10.2)',\n",
       " 'Requirement already satisfied: psutil in d:\\\\pythonprojects\\\\deepcnn image clasif\\\\classifvnv\\\\lib\\\\site-packages (from tensorflow-datasets) (6.0.0)',\n",
       " 'Requirement already satisfied: tqdm in d:\\\\pythonprojects\\\\deepcnn image clasif\\\\classifvnv\\\\lib\\\\site-packages (from tensorflow-datasets) (4.66.4)',\n",
       " 'Requirement already satisfied: click in d:\\\\pythonprojects\\\\deepcnn image clasif\\\\classifvnv\\\\lib\\\\site-packages (from tensorflow-datasets) (8.1.7)',\n",
       " 'Requirement already satisfied: array-record in d:\\\\pythonprojects\\\\deepcnn image clasif\\\\classifvnv\\\\lib\\\\site-packages (from tensorflow-datasets) (0.4.0)',\n",
       " 'Requirement already satisfied: etils[enp,epath]>=0.9.0 in d:\\\\pythonprojects\\\\deepcnn image clasif\\\\classifvnv\\\\lib\\\\site-packages (from tensorflow-datasets) (1.3.0)',\n",
       " 'Requirement already satisfied: promise in d:\\\\pythonprojects\\\\deepcnn image clasif\\\\classifvnv\\\\lib\\\\site-packages (from tensorflow-datasets) (2.3)',\n",
       " 'Requirement already satisfied: comm>=0.1.3 in d:\\\\pythonprojects\\\\deepcnn image clasif\\\\classifvnv\\\\lib\\\\site-packages (from ipywidgets) (0.2.2)',\n",
       " 'Requirement already satisfied: traitlets>=4.3.1 in d:\\\\pythonprojects\\\\deepcnn image clasif\\\\classifvnv\\\\lib\\\\site-packages (from ipywidgets) (5.14.3)',\n",
       " 'Requirement already satisfied: ipython>=6.1.0 in d:\\\\pythonprojects\\\\deepcnn image clasif\\\\classifvnv\\\\lib\\\\site-packages (from ipywidgets) (8.12.3)',\n",
       " 'Requirement already satisfied: jupyterlab-widgets~=3.0.12 in d:\\\\pythonprojects\\\\deepcnn image clasif\\\\classifvnv\\\\lib\\\\site-packages (from ipywidgets) (3.0.13)',\n",
       " 'Requirement already satisfied: widgetsnbextension~=4.0.12 in d:\\\\pythonprojects\\\\deepcnn image clasif\\\\classifvnv\\\\lib\\\\site-packages (from ipywidgets) (4.0.13)',\n",
       " 'Requirement already satisfied: colorama in d:\\\\pythonprojects\\\\deepcnn image clasif\\\\classifvnv\\\\lib\\\\site-packages (from ipython>=6.1.0->ipywidgets) (0.4.6)',\n",
       " 'Requirement already satisfied: pickleshare in d:\\\\pythonprojects\\\\deepcnn image clasif\\\\classifvnv\\\\lib\\\\site-packages (from ipython>=6.1.0->ipywidgets) (0.7.5)',\n",
       " 'Requirement already satisfied: matplotlib-inline in d:\\\\pythonprojects\\\\deepcnn image clasif\\\\classifvnv\\\\lib\\\\site-packages (from ipython>=6.1.0->ipywidgets) (0.1.7)',\n",
       " 'Requirement already satisfied: backcall in d:\\\\pythonprojects\\\\deepcnn image clasif\\\\classifvnv\\\\lib\\\\site-packages (from ipython>=6.1.0->ipywidgets) (0.2.0)',\n",
       " 'Requirement already satisfied: stack-data in d:\\\\pythonprojects\\\\deepcnn image clasif\\\\classifvnv\\\\lib\\\\site-packages (from ipython>=6.1.0->ipywidgets) (0.6.3)',\n",
       " 'Requirement already satisfied: pygments>=2.4.0 in d:\\\\pythonprojects\\\\deepcnn image clasif\\\\classifvnv\\\\lib\\\\site-packages (from ipython>=6.1.0->ipywidgets) (2.18.0)',\n",
       " 'Requirement already satisfied: prompt-toolkit!=3.0.37,<3.1.0,>=3.0.30 in d:\\\\pythonprojects\\\\deepcnn image clasif\\\\classifvnv\\\\lib\\\\site-packages (from ipython>=6.1.0->ipywidgets) (3.0.47)',\n",
       " 'Requirement already satisfied: jedi>=0.16 in d:\\\\pythonprojects\\\\deepcnn image clasif\\\\classifvnv\\\\lib\\\\site-packages (from ipython>=6.1.0->ipywidgets) (0.19.1)',\n",
       " 'Requirement already satisfied: decorator in d:\\\\pythonprojects\\\\deepcnn image clasif\\\\classifvnv\\\\lib\\\\site-packages (from ipython>=6.1.0->ipywidgets) (5.1.1)',\n",
       " 'Requirement already satisfied: parso<0.9.0,>=0.8.3 in d:\\\\pythonprojects\\\\deepcnn image clasif\\\\classifvnv\\\\lib\\\\site-packages (from jedi>=0.16->ipython>=6.1.0->ipywidgets) (0.8.4)',\n",
       " 'Requirement already satisfied: wcwidth in d:\\\\pythonprojects\\\\deepcnn image clasif\\\\classifvnv\\\\lib\\\\site-packages (from prompt-toolkit!=3.0.37,<3.1.0,>=3.0.30->ipython>=6.1.0->ipywidgets) (0.2.13)',\n",
       " 'Requirement already satisfied: executing>=1.2.0 in d:\\\\pythonprojects\\\\deepcnn image clasif\\\\classifvnv\\\\lib\\\\site-packages (from stack-data->ipython>=6.1.0->ipywidgets) (2.0.1)',\n",
       " 'Requirement already satisfied: pure-eval in d:\\\\pythonprojects\\\\deepcnn image clasif\\\\classifvnv\\\\lib\\\\site-packages (from stack-data->ipython>=6.1.0->ipywidgets) (0.2.2)',\n",
       " 'Requirement already satisfied: asttokens>=2.1.0 in d:\\\\pythonprojects\\\\deepcnn image clasif\\\\classifvnv\\\\lib\\\\site-packages (from stack-data->ipython>=6.1.0->ipywidgets) (2.4.1)',\n",
       " 'Requirement already satisfied: googleapis-common-protos<2,>=1.52.0 in d:\\\\pythonprojects\\\\deepcnn image clasif\\\\classifvnv\\\\lib\\\\site-packages (from tensorflow-metadata->tensorflow-datasets) (1.63.2)',\n",
       " 'Building wheels for collected packages: tensorflow-gpu',\n",
       " '  Building wheel for tensorflow-gpu (setup.py): started',\n",
       " \"  Building wheel for tensorflow-gpu (setup.py): finished with status 'error'\",\n",
       " '  ERROR: Command errored out with exit status 1:',\n",
       " '   command: \\'d:\\\\pythonprojects\\\\deepcnn image clasif\\\\classifvnv\\\\scripts\\\\python.exe\\' -u -c \\'import io, os, sys, setuptools, tokenize; sys.argv[0] = \\'\"\\'\"\\'C:\\\\\\\\Users\\\\\\\\nane\\\\\\\\AppData\\\\\\\\Local\\\\\\\\Temp\\\\\\\\pip-install-h0520hl1\\\\\\\\tensorflow-gpu_37bfd92772d340dea90539326d080dae\\\\\\\\setup.py\\'\"\\'\"\\'; __file__=\\'\"\\'\"\\'C:\\\\\\\\Users\\\\\\\\nane\\\\\\\\AppData\\\\\\\\Local\\\\\\\\Temp\\\\\\\\pip-install-h0520hl1\\\\\\\\tensorflow-gpu_37bfd92772d340dea90539326d080dae\\\\\\\\setup.py\\'\"\\'\"\\';f = getattr(tokenize, \\'\"\\'\"\\'open\\'\"\\'\"\\', open)(__file__) if os.path.exists(__file__) else io.StringIO(\\'\"\\'\"\\'from setuptools import setup; setup()\\'\"\\'\"\\');code = f.read().replace(\\'\"\\'\"\\'\\\\r\\\\n\\'\"\\'\"\\', \\'\"\\'\"\\'\\\\n\\'\"\\'\"\\');f.close();exec(compile(code, __file__, \\'\"\\'\"\\'exec\\'\"\\'\"\\'))\\' bdist_wheel -d \\'C:\\\\Users\\\\nane\\\\AppData\\\\Local\\\\Temp\\\\pip-wheel-wogq8kob\\'',\n",
       " '       cwd: C:\\\\Users\\\\nane\\\\AppData\\\\Local\\\\Temp\\\\pip-install-h0520hl1\\\\tensorflow-gpu_37bfd92772d340dea90539326d080dae\\\\',\n",
       " '  Complete output (17 lines):',\n",
       " '  Traceback (most recent call last):',\n",
       " '    File \"<string>\", line 1, in <module>',\n",
       " '    File \"C:\\\\Users\\\\nane\\\\AppData\\\\Local\\\\Temp\\\\pip-install-h0520hl1\\\\tensorflow-gpu_37bfd92772d340dea90539326d080dae\\\\setup.py\", line 37, in <module>',\n",
       " '      raise Exception(TF_REMOVAL_WARNING)',\n",
       " '  Exception:',\n",
       " '  ',\n",
       " '  =========================================================',\n",
       " '  The \"tensorflow-gpu\" package has been removed!',\n",
       " '  ',\n",
       " '  Please install \"tensorflow\" instead.',\n",
       " '  ',\n",
       " '  Other than the name, the two packages have been identical',\n",
       " '  since TensorFlow 2.1, or roughly since Sep 2019. For more',\n",
       " '  information, see: pypi.org/project/tensorflow-gpu',\n",
       " '  =========================================================',\n",
       " '  ',\n",
       " '  ',\n",
       " '  ----------------------------------------',\n",
       " '  ERROR: Failed building wheel for tensorflow-gpu',\n",
       " '  Running setup.py clean for tensorflow-gpu',\n",
       " 'Failed to build tensorflow-gpu',\n",
       " 'WARNING: Ignoring invalid distribution -ip (d:\\\\pythonprojects\\\\deepcnn image clasif\\\\classifvnv\\\\lib\\\\site-packages)',\n",
       " 'Installing collected packages: typing-extensions, tensorflow-gpu, ipywidgets',\n",
       " '  Attempting uninstall: typing-extensions',\n",
       " '    WARNING: Ignoring invalid distribution -ip (d:\\\\pythonprojects\\\\deepcnn image clasif\\\\classifvnv\\\\lib\\\\site-packages)',\n",
       " '    Found existing installation: typing-extensions 4.12.2',\n",
       " '    Uninstalling typing-extensions-4.12.2:',\n",
       " '      Successfully uninstalled typing-extensions-4.12.2',\n",
       " '    Running setup.py install for tensorflow-gpu: started',\n",
       " \"    Running setup.py install for tensorflow-gpu: finished with status 'error'\",\n",
       " '    ERROR: Command errored out with exit status 1:',\n",
       " '     command: \\'d:\\\\pythonprojects\\\\deepcnn image clasif\\\\classifvnv\\\\scripts\\\\python.exe\\' -u -c \\'import io, os, sys, setuptools, tokenize; sys.argv[0] = \\'\"\\'\"\\'C:\\\\\\\\Users\\\\\\\\nane\\\\\\\\AppData\\\\\\\\Local\\\\\\\\Temp\\\\\\\\pip-install-h0520hl1\\\\\\\\tensorflow-gpu_37bfd92772d340dea90539326d080dae\\\\\\\\setup.py\\'\"\\'\"\\'; __file__=\\'\"\\'\"\\'C:\\\\\\\\Users\\\\\\\\nane\\\\\\\\AppData\\\\\\\\Local\\\\\\\\Temp\\\\\\\\pip-install-h0520hl1\\\\\\\\tensorflow-gpu_37bfd92772d340dea90539326d080dae\\\\\\\\setup.py\\'\"\\'\"\\';f = getattr(tokenize, \\'\"\\'\"\\'open\\'\"\\'\"\\', open)(__file__) if os.path.exists(__file__) else io.StringIO(\\'\"\\'\"\\'from setuptools import setup; setup()\\'\"\\'\"\\');code = f.read().replace(\\'\"\\'\"\\'\\\\r\\\\n\\'\"\\'\"\\', \\'\"\\'\"\\'\\\\n\\'\"\\'\"\\');f.close();exec(compile(code, __file__, \\'\"\\'\"\\'exec\\'\"\\'\"\\'))\\' install --record \\'C:\\\\Users\\\\nane\\\\AppData\\\\Local\\\\Temp\\\\pip-record-q843qt1h\\\\install-record.txt\\' --single-version-externally-managed --compile --install-headers \\'d:\\\\pythonprojects\\\\deepcnn image clasif\\\\classifvnv\\\\include\\\\site\\\\python3.8\\\\tensorflow-gpu\\'',\n",
       " '         cwd: C:\\\\Users\\\\nane\\\\AppData\\\\Local\\\\Temp\\\\pip-install-h0520hl1\\\\tensorflow-gpu_37bfd92772d340dea90539326d080dae\\\\',\n",
       " '    Complete output (17 lines):',\n",
       " '    Traceback (most recent call last):',\n",
       " '      File \"<string>\", line 1, in <module>',\n",
       " '      File \"C:\\\\Users\\\\nane\\\\AppData\\\\Local\\\\Temp\\\\pip-install-h0520hl1\\\\tensorflow-gpu_37bfd92772d340dea90539326d080dae\\\\setup.py\", line 37, in <module>',\n",
       " '        raise Exception(TF_REMOVAL_WARNING)',\n",
       " '    Exception:',\n",
       " '    ',\n",
       " '    =========================================================',\n",
       " '    The \"tensorflow-gpu\" package has been removed!',\n",
       " '    ',\n",
       " '    Please install \"tensorflow\" instead.',\n",
       " '    ',\n",
       " '    Other than the name, the two packages have been identical',\n",
       " '    since TensorFlow 2.1, or roughly since Sep 2019. For more',\n",
       " '    information, see: pypi.org/project/tensorflow-gpu',\n",
       " '    =========================================================',\n",
       " '    ',\n",
       " '    ',\n",
       " '    ----------------------------------------',\n",
       " 'ERROR: Command errored out with exit status 1: \\'d:\\\\pythonprojects\\\\deepcnn image clasif\\\\classifvnv\\\\scripts\\\\python.exe\\' -u -c \\'import io, os, sys, setuptools, tokenize; sys.argv[0] = \\'\"\\'\"\\'C:\\\\\\\\Users\\\\\\\\nane\\\\\\\\AppData\\\\\\\\Local\\\\\\\\Temp\\\\\\\\pip-install-h0520hl1\\\\\\\\tensorflow-gpu_37bfd92772d340dea90539326d080dae\\\\\\\\setup.py\\'\"\\'\"\\'; __file__=\\'\"\\'\"\\'C:\\\\\\\\Users\\\\\\\\nane\\\\\\\\AppData\\\\\\\\Local\\\\\\\\Temp\\\\\\\\pip-install-h0520hl1\\\\\\\\tensorflow-gpu_37bfd92772d340dea90539326d080dae\\\\\\\\setup.py\\'\"\\'\"\\';f = getattr(tokenize, \\'\"\\'\"\\'open\\'\"\\'\"\\', open)(__file__) if os.path.exists(__file__) else io.StringIO(\\'\"\\'\"\\'from setuptools import setup; setup()\\'\"\\'\"\\');code = f.read().replace(\\'\"\\'\"\\'\\\\r\\\\n\\'\"\\'\"\\', \\'\"\\'\"\\'\\\\n\\'\"\\'\"\\');f.close();exec(compile(code, __file__, \\'\"\\'\"\\'exec\\'\"\\'\"\\'))\\' install --record \\'C:\\\\Users\\\\nane\\\\AppData\\\\Local\\\\Temp\\\\pip-record-q843qt1h\\\\install-record.txt\\' --single-version-externally-managed --compile --install-headers \\'d:\\\\pythonprojects\\\\deepcnn image clasif\\\\classifvnv\\\\include\\\\site\\\\python3.8\\\\tensorflow-gpu\\' Check the logs for full command output.',\n",
       " 'WARNING: Ignoring invalid distribution -ip (d:\\\\pythonprojects\\\\deepcnn image clasif\\\\classifvnv\\\\lib\\\\site-packages)',\n",
       " 'WARNING: Ignoring invalid distribution -ip (d:\\\\pythonprojects\\\\deepcnn image clasif\\\\classifvnv\\\\lib\\\\site-packages)',\n",
       " 'WARNING: Ignoring invalid distribution -ip (d:\\\\pythonprojects\\\\deepcnn image clasif\\\\classifvnv\\\\lib\\\\site-packages)',\n",
       " 'WARNING: You are using pip version 21.1.1; however, version 24.2 is available.',\n",
       " \"You should consider upgrading via the 'd:\\\\pythonprojects\\\\deepcnn image clasif\\\\classifvnv\\\\scripts\\\\python.exe -m pip install --upgrade pip' command.\"]"
      ]
     },
     "execution_count": 1,
     "metadata": {},
     "output_type": "execute_result"
    }
   ],
   "source": [
    "!!pip install tensorflow tensorflow-gpu matplotlib tensorflow-datasets ipywidgets"
   ]
  },
  {
   "cell_type": "code",
   "execution_count": 2,
   "metadata": {},
   "outputs": [],
   "source": [
    "#!!pip list\n",
    "import tensorflow as tf \n",
    "\n",
    "gpus = tf.config.experimental.list_physical_devices('GPU')\n",
    "for gpu in gpus:\n",
    "    tf.config.experimental.set_memory_growth(gpu, True)"
   ]
  },
  {
   "cell_type": "markdown",
   "metadata": {},
   "source": [
    "## Viz Data and build dataset"
   ]
  },
  {
   "cell_type": "code",
   "execution_count": 3,
   "metadata": {},
   "outputs": [
    {
     "name": "stderr",
     "output_type": "stream",
     "text": [
      "d:\\PythonProjects\\AI-PROJECTS\\classifVnv\\lib\\site-packages\\tqdm\\auto.py:21: TqdmWarning: IProgress not found. Please update jupyter and ipywidgets. See https://ipywidgets.readthedocs.io/en/stable/user_install.html\n",
      "  from .autonotebook import tqdm as notebook_tqdm\n"
     ]
    }
   ],
   "source": [
    "import tensorflow_datasets as tfds \n",
    "from matplotlib import pyplot as plt"
   ]
  },
  {
   "cell_type": "code",
   "execution_count": 4,
   "metadata": {},
   "outputs": [],
   "source": [
    "# loading data from tenserflow dataset from online to machin \n",
    "ds = tfds.load('fashion_mnist',split='train' )"
   ]
  },
  {
   "cell_type": "code",
   "execution_count": 5,
   "metadata": {},
   "outputs": [
    {
     "data": {
      "image/png": "[encoded data removed]",
      "text/plain": [
       "<Figure size 2000x2000 with 4 Axes>"
      ]
     },
     "metadata": {},
     "output_type": "display_data"
    }
   ],
   "source": [
    "#to do some data transformation \n",
    "import numpy as np \n",
    "iterator_data= ds.as_numpy_iterator()\n",
    "\n",
    "\n",
    "fig, ax =plt.subplots(ncols=4, figsize=(20,20))\n",
    "for indx in range(4):\n",
    "    batch =  iterator_data.next()\n",
    "    ax[indx].imshow(np.squeeze(batch['image']))\n",
    "    ax[indx].title.set_text(batch['label'])"
   ]
  },
  {
   "cell_type": "code",
   "execution_count": 6,
   "metadata": {},
   "outputs": [],
   "source": [
    "#scale and return image only\n",
    "def sacle_image(data):\n",
    "    image = data['image']\n",
    "    return image/255"
   ]
  },
  {
   "cell_type": "markdown",
   "metadata": {},
   "source": [
    "## Build Neural Network "
   ]
  },
  {
   "cell_type": "code",
   "execution_count": 7,
   "metadata": {},
   "outputs": [],
   "source": [
    "#creat our pipline \n",
    "ds = tfds.load('fashion_mnist',split='train' )\n",
    "ds = ds.map(sacle_image)\n",
    "ds = ds.cache()\n",
    "ds = ds.shuffle(60000)\n",
    "ds = ds.batch(128)\n",
    "ds = ds.prefetch(64)\n"
   ]
  },
  {
   "cell_type": "markdown",
   "metadata": {},
   "source": [
    "##### 1.1 Import Model Components "
   ]
  },
  {
   "cell_type": "code",
   "execution_count": 8,
   "metadata": {},
   "outputs": [],
   "source": [
    "from tensorflow.keras.models import Sequential\n",
    "from tensorflow.keras.layers import Dense , Conv2D , Flatten , Reshape , LeakyReLU , Dropout , UpSampling2D"
   ]
  },
  {
   "cell_type": "markdown",
   "metadata": {},
   "source": [
    "##### 1.2 Build Generatore"
   ]
  },
  {
   "cell_type": "code",
   "execution_count": 9,
   "metadata": {},
   "outputs": [],
   "source": [
    "def build_generator ():\n",
    "    model = Sequential()\n",
    "\n",
    "    #take rabdom values an reshape it to 7*7*128\n",
    "    # Beginning of generated image\n",
    "    model.add(Dense(7*7*128 , input_dim=128))\n",
    "    model.add(LeakyReLU(0.2))\n",
    "    model.add(Reshape((7,7,128)))\n",
    "\n",
    "    #Up sampling Block 1\n",
    "    model.add(UpSampling2D())\n",
    "    model.add(Conv2D(128, 5, padding='same'))\n",
    "    model.add(LeakyReLU(0.2))\n",
    "\n",
    "    #Up sampling Block 2\n",
    "    model.add(UpSampling2D())\n",
    "    model.add(Conv2D(128, 5, padding='same'))\n",
    "    model.add(LeakyReLU(0.2))\n",
    "\n",
    "    #Convelution block  1\n",
    "    model.add(Conv2D(128, 4, padding = 'same'))\n",
    "    model.add(LeakyReLU(0.2))\n",
    "\n",
    "    #Convelution block  2\n",
    "    model.add(Conv2D(128, 4, padding = 'same'))\n",
    "    model.add(LeakyReLU(0.2))\n",
    "\n",
    "    #conv layer to get one chaneel \n",
    "    model.add(Conv2D(1,4,padding ='same', activation='sigmoid'))\n",
    "\n",
    "\n",
    "    return model"
   ]
  },
  {
   "cell_type": "code",
   "execution_count": 10,
   "metadata": {},
   "outputs": [
    {
     "name": "stdout",
     "output_type": "stream",
     "text": [
      "Model: \"sequential\"\n",
      "_________________________________________________________________\n",
      " Layer (type)                Output Shape              Param #   \n",
      "=================================================================\n",
      " dense (Dense)               (None, 6272)              809088    \n",
      "                                                                 \n",
      " leaky_re_lu (LeakyReLU)     (None, 6272)              0         \n",
      "                                                                 \n",
      " reshape (Reshape)           (None, 7, 7, 128)         0         \n",
      "                                                                 \n",
      " up_sampling2d (UpSampling2  (None, 14, 14, 128)       0         \n",
      " D)                                                              \n",
      "                                                                 \n",
      " conv2d (Conv2D)             (None, 14, 14, 128)       409728    \n",
      "                                                                 \n",
      " leaky_re_lu_1 (LeakyReLU)   (None, 14, 14, 128)       0         \n",
      "                                                                 \n",
      " up_sampling2d_1 (UpSamplin  (None, 28, 28, 128)       0         \n",
      " g2D)                                                            \n",
      "                                                                 \n",
      " conv2d_1 (Conv2D)           (None, 28, 28, 128)       409728    \n",
      "                                                                 \n",
      " leaky_re_lu_2 (LeakyReLU)   (None, 28, 28, 128)       0         \n",
      "                                                                 \n",
      " conv2d_2 (Conv2D)           (None, 28, 28, 128)       262272    \n",
      "                                                                 \n",
      " leaky_re_lu_3 (LeakyReLU)   (None, 28, 28, 128)       0         \n",
      "                                                                 \n",
      " conv2d_3 (Conv2D)           (None, 28, 28, 128)       262272    \n",
      "                                                                 \n",
      " leaky_re_lu_4 (LeakyReLU)   (None, 28, 28, 128)       0         \n",
      "                                                                 \n",
      " conv2d_4 (Conv2D)           (None, 28, 28, 1)         2049      \n",
      "                                                                 \n",
      "=================================================================\n",
      "Total params: 2155137 (8.22 MB)\n",
      "Trainable params: 2155137 (8.22 MB)\n",
      "Non-trainable params: 0 (0.00 Byte)\n",
      "_________________________________________________________________\n"
     ]
    }
   ],
   "source": [
    "generatorModel = build_generator()\n",
    "generatorModel.summary()"
   ]
  },
  {
   "cell_type": "code",
   "execution_count": 11,
   "metadata": {},
   "outputs": [
    {
     "name": "stdout",
     "output_type": "stream",
     "text": [
      "1/1 [==============================] - 1s 682ms/step\n"
     ]
    },
    {
     "data": {
      "image/png": "[encoded data removed]",
      "text/plain": [
       "<Figure size 2000x2000 with 4 Axes>"
      ]
     },
     "metadata": {},
     "output_type": "display_data"
    }
   ],
   "source": [
    "\n",
    "img = generatorModel.predict(np.random.randn(4,128,1))\n",
    "\n",
    "fig, ax =plt.subplots(ncols=4, figsize=(20,20))\n",
    "for indx, img in enumerate(img):\n",
    "    batch =  img\n",
    "    ax[indx].imshow(np.squeeze(batch))\n",
    "    ax[indx].title.set_text(indx)"
   ]
  },
  {
   "cell_type": "markdown",
   "metadata": {},
   "source": [
    "# Build Discriminator "
   ]
  },
  {
   "cell_type": "code",
   "execution_count": 12,
   "metadata": {},
   "outputs": [],
   "source": [
    "def build_discriminator():\n",
    "    model = Sequential()\n",
    "\n",
    "    # First Conv Block\n",
    "    model.add(Conv2D(32, 5, input_shape = (28,28,1)))\n",
    "    model.add(LeakyReLU(0.2))\n",
    "    model.add(Dropout(0.4))\n",
    "\n",
    "    # second Conv Block \n",
    "    model.add(Conv2D(64, 5))\n",
    "    model.add(LeakyReLU(0.2))\n",
    "    model.add(Dropout(0.4))\n",
    "\n",
    "    # third Conv Block\n",
    "    model.add(Conv2D(128, 5))\n",
    "    model.add(LeakyReLU(0.2))\n",
    "    model.add(Dropout(0.4))\n",
    "\n",
    "    # Forth Conv Block\n",
    "    model.add(Conv2D(256, 5))\n",
    "    model.add(LeakyReLU(0.2))\n",
    "    model.add(Dropout(0.4))\n",
    "\n",
    "    model.add(Flatten())\n",
    "    model.add(Dropout(0.4))\n",
    "    model.add(Dense(1,activation='sigmoid'))\n",
    "\n",
    "    return model"
   ]
  },
  {
   "cell_type": "code",
   "execution_count": 13,
   "metadata": {},
   "outputs": [
    {
     "name": "stdout",
     "output_type": "stream",
     "text": [
      "Model: \"sequential_1\"\n",
      "_________________________________________________________________\n",
      " Layer (type)                Output Shape              Param #   \n",
      "=================================================================\n",
      " conv2d_5 (Conv2D)           (None, 24, 24, 32)        832       \n",
      "                                                                 \n",
      " leaky_re_lu_5 (LeakyReLU)   (None, 24, 24, 32)        0         \n",
      "                                                                 \n",
      " dropout (Dropout)           (None, 24, 24, 32)        0         \n",
      "                                                                 \n",
      " conv2d_6 (Conv2D)           (None, 20, 20, 64)        51264     \n",
      "                                                                 \n",
      " leaky_re_lu_6 (LeakyReLU)   (None, 20, 20, 64)        0         \n",
      "                                                                 \n",
      " dropout_1 (Dropout)         (None, 20, 20, 64)        0         \n",
      "                                                                 \n",
      " conv2d_7 (Conv2D)           (None, 16, 16, 128)       204928    \n",
      "                                                                 \n",
      " leaky_re_lu_7 (LeakyReLU)   (None, 16, 16, 128)       0         \n",
      "                                                                 \n",
      " dropout_2 (Dropout)         (None, 16, 16, 128)       0         \n",
      "                                                                 \n",
      " conv2d_8 (Conv2D)           (None, 12, 12, 256)       819456    \n",
      "                                                                 \n",
      " leaky_re_lu_8 (LeakyReLU)   (None, 12, 12, 256)       0         \n",
      "                                                                 \n",
      " dropout_3 (Dropout)         (None, 12, 12, 256)       0         \n",
      "                                                                 \n",
      " flatten (Flatten)           (None, 36864)             0         \n",
      "                                                                 \n",
      " dropout_4 (Dropout)         (None, 36864)             0         \n",
      "                                                                 \n",
      " dense_1 (Dense)             (None, 1)                 36865     \n",
      "                                                                 \n",
      "=================================================================\n",
      "Total params: 1113345 (4.25 MB)\n",
      "Trainable params: 1113345 (4.25 MB)\n",
      "Non-trainable params: 0 (0.00 Byte)\n",
      "_________________________________________________________________\n"
     ]
    }
   ],
   "source": [
    "discriminatore = build_discriminator()\n",
    "discriminatore.summary()"
   ]
  },
  {
   "cell_type": "code",
   "execution_count": 14,
   "metadata": {},
   "outputs": [
    {
     "name": "stdout",
     "output_type": "stream",
     "text": [
      "1/1 [==============================] - 0s 46ms/step\n",
      "1/1 [==============================] - 0s 80ms/step\n"
     ]
    },
    {
     "data": {
      "text/plain": [
       "array([[0.4962536 ],\n",
       "       [0.4962753 ],\n",
       "       [0.49621522],\n",
       "       [0.49623793]], dtype=float32)"
      ]
     },
     "execution_count": 14,
     "metadata": {},
     "output_type": "execute_result"
    }
   ],
   "source": [
    "img = generatorModel.predict(np.random.randn(4,128,1))\n",
    "discriminatore.predict(img)"
   ]
  },
  {
   "cell_type": "markdown",
   "metadata": {},
   "source": [
    "# Construct Training Loop\n",
    "\n",
    "#### Setup Losses and Optimizer "
   ]
  },
  {
   "cell_type": "code",
   "execution_count": 15,
   "metadata": {},
   "outputs": [],
   "source": [
    "from tensorflow.keras.optimizers import Adam\n",
    "from tensorflow.keras.losses import BinaryCrossentropy "
   ]
  },
  {
   "cell_type": "code",
   "execution_count": 16,
   "metadata": {},
   "outputs": [],
   "source": [
    "g_opt = Adam(learning_rate=0.0001)\n",
    "d_opt = Adam(learning_rate=0.00001)\n"
   ]
  },
  {
   "cell_type": "code",
   "execution_count": 17,
   "metadata": {},
   "outputs": [],
   "source": [
    "g_loss = BinaryCrossentropy()\n",
    "d_loss = BinaryCrossentropy()\n"
   ]
  },
  {
   "cell_type": "markdown",
   "metadata": {},
   "source": [
    "##### Build Subclassed Model"
   ]
  },
  {
   "cell_type": "code",
   "execution_count": 18,
   "metadata": {},
   "outputs": [],
   "source": [
    "from tensorflow.keras.models import Model"
   ]
  },
  {
   "cell_type": "code",
   "execution_count": 19,
   "metadata": {},
   "outputs": [],
   "source": [
    "class FashionGAN(Model):\n",
    "    def __init__(self, generator ,discriminator , *args, **Kwargs ):\n",
    "\n",
    "        #pass to super \n",
    "        super().__init__(*args, **Kwargs)\n",
    "\n",
    "\n",
    "        # create attributes for gen and dis \n",
    "\n",
    "        self.generator = generator\n",
    "        self.discriminator = discriminator\n",
    "\n",
    "\n",
    "    def compile(self, g_opt,d_opt, g_loss, d_loss, *args, **kwargs ):\n",
    "        super().comile(*args, **kwargs)\n",
    "\n",
    "\n",
    "        #Create attribute for losses and optimizers \n",
    "        self.g_opt = g_opt\n",
    "        self.d_opt = d_opt\n",
    "        self.g_loss = g_loss\n",
    "        self.d_loss = d_loss\n",
    "\n",
    "    def train_step(self, batch ):\n",
    "        real_images = batch\n",
    "        fake_images = self.generator(tf.random.normal((128, 128,1)), training = False)\n",
    "\n",
    "        #Train the discriminator \n",
    "        with tf.GradientTap() as d_tape:\n",
    "           \n",
    "            #pass the real and fake images todiscriminator \n",
    "            yhat_real = self.discriminator(real_images, training = True)\n",
    "            yhat_fake = self.discriminator(fake_images, training = True)\n",
    "            yhat_realfake = tf.concat(yhat_real, yhat_fake, axis=0)\n",
    "\n",
    "            #create labels for real fak images \n",
    "            y_realfake = tf.concat([tf.zeros_like(yhat_real), tf.ones_like(yhat_fake)], axis=0)\n",
    "\n",
    "            # add some nouse th the TRUE outputs \n",
    "            noise_real = 0.15*tf.random.uniform(tf.shap(yhat_real))\n",
    "            noise_fake = -0.15*tf.random.uniform(tf.shap(yhat_real))\n",
    "            y_realfake+=tf.concat([noise_real, noise_fake], axis=0)\n",
    "\n",
    "            #calculate loss \n",
    "            total_d_loss = self.d_loss(y_realfake, yhat_realfake)\n",
    "\n",
    "        #applay backpropagation - nn learn \n",
    "        ggrad = d_tape.gradient(total_d_loss, self.generator.trainable_variables)\n",
    "        self.g_opt.apply_gradients(zip(ggrad, self.generator.trainable_variables))\n",
    "        \n",
    "        return {\"d_loss\":total_d_loss, \"g_loss\":total_d_loss}\n",
    "        \n"
   ]
  },
  {
   "cell_type": "markdown",
   "metadata": {},
   "source": [
    "#### Build Calback"
   ]
  },
  {
   "cell_type": "markdown",
   "metadata": {},
   "source": [
    "##### Train"
   ]
  }
 ],
 "metadata": {
  "kernelspec": {
   "display_name": "classifVnv",
   "language": "python",
   "name": "python3"
  },
  "language_info": {
   "codemirror_mode": {
    "name": "ipython",
    "version": 3
   },
   "file_extension": ".py",
   "mimetype": "text/x-python",
   "name": "python",
   "nbconvert_exporter": "python",
   "pygments_lexer": "ipython3",
   "version": "3.8.10"
  }
 },
 "nbformat": 4,
 "nbformat_minor": 2
}
