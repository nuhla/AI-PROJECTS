{
 "cells": [
  {
   "cell_type": "code",
   "execution_count": 2,
   "metadata": {},
   "outputs": [
    {
     "data": {
      "text/plain": [
       "['WARNING: Ignoring invalid distribution -ip (d:\\\\pythonprojects\\\\deepcnn image clasif\\\\classifvnv\\\\lib\\\\site-packages)',\n",
       " 'WARNING: Ignoring invalid distribution -ip (d:\\\\pythonprojects\\\\deepcnn image clasif\\\\classifvnv\\\\lib\\\\site-packages)',\n",
       " 'Requirement already satisfied: openai in d:\\\\pythonprojects\\\\deepcnn image clasif\\\\classifvnv\\\\lib\\\\site-packages (1.44.0)',\n",
       " 'Requirement already satisfied: pydantic<3,>=1.9.0 in d:\\\\pythonprojects\\\\deepcnn image clasif\\\\classifvnv\\\\lib\\\\site-packages (from openai) (2.9.0)',\n",
       " 'Requirement already satisfied: anyio<5,>=3.5.0 in d:\\\\pythonprojects\\\\deepcnn image clasif\\\\classifvnv\\\\lib\\\\site-packages (from openai) (4.4.0)',\n",
       " 'Requirement already satisfied: sniffio in d:\\\\pythonprojects\\\\deepcnn image clasif\\\\classifvnv\\\\lib\\\\site-packages (from openai) (1.3.1)',\n",
       " 'Requirement already satisfied: tqdm>4 in d:\\\\pythonprojects\\\\deepcnn image clasif\\\\classifvnv\\\\lib\\\\site-packages (from openai) (4.66.4)',\n",
       " 'Requirement already satisfied: typing-extensions<5,>=4.11 in d:\\\\pythonprojects\\\\deepcnn image clasif\\\\classifvnv\\\\lib\\\\site-packages (from openai) (4.12.2)',\n",
       " 'Requirement already satisfied: httpx<1,>=0.23.0 in d:\\\\pythonprojects\\\\deepcnn image clasif\\\\classifvnv\\\\lib\\\\site-packages (from openai) (0.27.2)',\n",
       " 'Requirement already satisfied: distro<2,>=1.7.0 in d:\\\\pythonprojects\\\\deepcnn image clasif\\\\classifvnv\\\\lib\\\\site-packages (from openai) (1.9.0)',\n",
       " 'Requirement already satisfied: jiter<1,>=0.4.0 in d:\\\\pythonprojects\\\\deepcnn image clasif\\\\classifvnv\\\\lib\\\\site-packages (from openai) (0.5.0)',\n",
       " 'Requirement already satisfied: exceptiongroup>=1.0.2 in d:\\\\pythonprojects\\\\deepcnn image clasif\\\\classifvnv\\\\lib\\\\site-packages (from anyio<5,>=3.5.0->openai) (1.2.2)',\n",
       " 'Requirement already satisfied: idna>=2.8 in d:\\\\pythonprojects\\\\deepcnn image clasif\\\\classifvnv\\\\lib\\\\site-packages (from anyio<5,>=3.5.0->openai) (3.7)',\n",
       " 'Requirement already satisfied: httpcore==1.* in d:\\\\pythonprojects\\\\deepcnn image clasif\\\\classifvnv\\\\lib\\\\site-packages (from httpx<1,>=0.23.0->openai) (1.0.5)',\n",
       " 'Requirement already satisfied: certifi in d:\\\\pythonprojects\\\\deepcnn image clasif\\\\classifvnv\\\\lib\\\\site-packages (from httpx<1,>=0.23.0->openai) (2024.7.4)',\n",
       " 'Requirement already satisfied: h11<0.15,>=0.13 in d:\\\\pythonprojects\\\\deepcnn image clasif\\\\classifvnv\\\\lib\\\\site-packages (from httpcore==1.*->httpx<1,>=0.23.0->openai) (0.14.0)',\n",
       " 'Requirement already satisfied: pydantic-core==2.23.2 in d:\\\\pythonprojects\\\\deepcnn image clasif\\\\classifvnv\\\\lib\\\\site-packages (from pydantic<3,>=1.9.0->openai) (2.23.2)',\n",
       " 'Requirement already satisfied: annotated-types>=0.4.0 in d:\\\\pythonprojects\\\\deepcnn image clasif\\\\classifvnv\\\\lib\\\\site-packages (from pydantic<3,>=1.9.0->openai) (0.7.0)',\n",
       " 'Requirement already satisfied: colorama in d:\\\\pythonprojects\\\\deepcnn image clasif\\\\classifvnv\\\\lib\\\\site-packages (from tqdm>4->openai) (0.4.6)',\n",
       " 'WARNING: Ignoring invalid distribution -ip (d:\\\\pythonprojects\\\\deepcnn image clasif\\\\classifvnv\\\\lib\\\\site-packages)',\n",
       " 'WARNING: Ignoring invalid distribution -ip (d:\\\\pythonprojects\\\\deepcnn image clasif\\\\classifvnv\\\\lib\\\\site-packages)',\n",
       " 'WARNING: Ignoring invalid distribution -ip (d:\\\\pythonprojects\\\\deepcnn image clasif\\\\classifvnv\\\\lib\\\\site-packages)',\n",
       " 'WARNING: Ignoring invalid distribution -ip (d:\\\\pythonprojects\\\\deepcnn image clasif\\\\classifvnv\\\\lib\\\\site-packages)',\n",
       " 'WARNING: You are using pip version 21.1.1; however, version 24.2 is available.',\n",
       " \"You should consider upgrading via the 'd:\\\\pythonprojects\\\\deepcnn image clasif\\\\classifvnv\\\\scripts\\\\python.exe -m pip install --upgrade pip' command.\"]"
      ]
     },
     "execution_count": 2,
     "metadata": {},
     "output_type": "execute_result"
    }
   ],
   "source": [
    "!!pip install openai"
   ]
  },
  {
   "cell_type": "code",
   "execution_count": null,
   "metadata": {},
   "outputs": [],
   "source": [
    "#Generate api apk\n",
    "import openai as open\n",
    "mykey=\"|\"\n",
    "open.api_key =mykey\n",
    "\n",
    "openList = open.models.list()"
   ]
  },
  {
   "cell_type": "code",
   "execution_count": null,
   "metadata": {},
   "outputs": [],
   "source": [
    "import pandas as pd \n",
    "\n",
    "pd.DataFrame(list(openList))"
   ]
  },
  {
   "cell_type": "markdown",
   "metadata": {},
   "source": [
    "Open ai Playgroun"
   ]
  }
 ],
 "metadata": {
  "kernelspec": {
   "display_name": "classifVnv",
   "language": "python",
   "name": "python3"
  },
  "language_info": {
   "codemirror_mode": {
    "name": "ipython",
    "version": 3
   },
   "file_extension": ".py",
   "mimetype": "text/x-python",
   "name": "python",
   "nbconvert_exporter": "python",
   "pygments_lexer": "ipython3",
   "version": "3.8.10"
  }
 },
 "nbformat": 4,
 "nbformat_minor": 2
}
